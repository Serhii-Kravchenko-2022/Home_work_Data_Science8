{
  "nbformat": 4,
  "nbformat_minor": 0,
  "metadata": {
    "colab": {
      "provenance": [],
      "authorship_tag": "ABX9TyPXZHcIPIPh7Q2T5l87U92T",
      "include_colab_link": true
    },
    "kernelspec": {
      "name": "python3",
      "display_name": "Python 3"
    },
    "language_info": {
      "name": "python"
    }
  },
  "cells": [
    {
      "cell_type": "markdown",
      "metadata": {
        "id": "view-in-github",
        "colab_type": "text"
      },
      "source": [
        "<a href=\"https://colab.research.google.com/github/Serhii-Kravchenko-2022/Home_work_Data_Science8/blob/main/HW9.ipynb\" target=\"_parent\"><img src=\"https://colab.research.google.com/assets/colab-badge.svg\" alt=\"Open In Colab\"/></a>"
      ]
    },
    {
      "cell_type": "markdown",
      "source": [
        "# Home work for module 9 by\n",
        "# Кравченко Сергій"
      ],
      "metadata": {
        "id": "EFtwq66y7cfL"
      }
    },
    {
      "cell_type": "code",
      "execution_count": 140,
      "metadata": {
        "id": "DwS7wNIv7ToY"
      },
      "outputs": [],
      "source": [
        "import pandas as pd\n",
        "import numpy as np\n",
        "import tensorflow as tf\n",
        "import matplotlib.pyplot as plt\n",
        "\n",
        "from keras.datasets import fashion_mnist\n",
        "from keras.layers import Dense, Dropout\n",
        "from keras.models import Sequential"
      ]
    },
    {
      "cell_type": "code",
      "source": [
        "(X_train, y_train), (X_test, y_test) = fashion_mnist.load_data()"
      ],
      "metadata": {
        "id": "voOYO_Si8Bf2"
      },
      "execution_count": 141,
      "outputs": []
    },
    {
      "cell_type": "code",
      "source": [
        "X_train.shape"
      ],
      "metadata": {
        "colab": {
          "base_uri": "https://localhost:8080/"
        },
        "id": "wn-yjnpZ8YM1",
        "outputId": "6dde2ce1-03fa-4c25-d7cc-29843dfdf2a0"
      },
      "execution_count": 142,
      "outputs": [
        {
          "output_type": "execute_result",
          "data": {
            "text/plain": [
              "(60000, 28, 28)"
            ]
          },
          "metadata": {},
          "execution_count": 142
        }
      ]
    },
    {
      "cell_type": "code",
      "source": [
        "X_test.shape"
      ],
      "metadata": {
        "colab": {
          "base_uri": "https://localhost:8080/"
        },
        "id": "3gkuOqSJ8biv",
        "outputId": "d9afa836-45b5-49d0-b5ed-e5516b9cc5d2"
      },
      "execution_count": 143,
      "outputs": [
        {
          "output_type": "execute_result",
          "data": {
            "text/plain": [
              "(10000, 28, 28)"
            ]
          },
          "metadata": {},
          "execution_count": 143
        }
      ]
    },
    {
      "cell_type": "code",
      "source": [
        "X_train = X_train.astype('float32') / 255.0\n",
        "X_test = X_test.astype('float32') / 255.0\n",
        "\n",
        "X_train = X_train.reshape(-1, 784)\n",
        "X_test = X_test.reshape(-1, 784)"
      ],
      "metadata": {
        "id": "MNo1nMLj8g6X"
      },
      "execution_count": 144,
      "outputs": []
    },
    {
      "cell_type": "code",
      "source": [
        "model = Sequential()\n",
        "\n",
        "# first trial\n",
        "# model.add(Dense(64, activation='relu', input_shape=[784,], name = 'Layer_1'))\n",
        "# model.add(Dropout(0,2))\n",
        "# model.add(Dense(64, activation='relu', name = 'Layer_2'))\n",
        "# model.add(Dropout(0,2))\n",
        "# model.add(Dense(10, activation='softmax', name = 'Layer_out'))\n",
        "\n",
        "model.add(Dense(128, activation='relu', input_shape=[784,], name = 'Layer_1'))\n",
        "model.add(Dropout(0.2))\n",
        "model.add(Dense(64, activation='relu', name = 'Layer_2'))\n",
        "model.add(Dropout(0.2))\n",
        "model.add(Dense(64, activation='relu', name = 'Layer_3'))\n",
        "model.add(Dropout(0.2))\n",
        "# model.add(Dense(32, activation='relu', name = 'Layer_4'))\n",
        "# # model.add(Dropout(0,2))\n",
        "model.add(Dense(10, activation='softmax', name = 'Layer_out'))"
      ],
      "metadata": {
        "id": "EitYu8BY8_QL"
      },
      "execution_count": 177,
      "outputs": []
    },
    {
      "cell_type": "code",
      "source": [
        "model.compile(optimizer='adam', loss='sparse_categorical_crossentropy', metrics=['accuracy'])"
      ],
      "metadata": {
        "id": "t4DsZNf19Clo"
      },
      "execution_count": 178,
      "outputs": []
    },
    {
      "cell_type": "code",
      "source": [
        "model.summary()"
      ],
      "metadata": {
        "colab": {
          "base_uri": "https://localhost:8080/"
        },
        "id": "bxmYjeXw9DZI",
        "outputId": "a2a76700-3868-4237-bd13-aca04cbe4ee2"
      },
      "execution_count": 179,
      "outputs": [
        {
          "output_type": "stream",
          "name": "stdout",
          "text": [
            "Model: \"sequential_6\"\n",
            "_________________________________________________________________\n",
            " Layer (type)                Output Shape              Param #   \n",
            "=================================================================\n",
            " Layer_1 (Dense)             (None, 128)               100480    \n",
            "                                                                 \n",
            " dropout_11 (Dropout)        (None, 128)               0         \n",
            "                                                                 \n",
            " Layer_2 (Dense)             (None, 64)                8256      \n",
            "                                                                 \n",
            " dropout_12 (Dropout)        (None, 64)                0         \n",
            "                                                                 \n",
            " Layer_3 (Dense)             (None, 64)                4160      \n",
            "                                                                 \n",
            " dropout_13 (Dropout)        (None, 64)                0         \n",
            "                                                                 \n",
            " Layer_out (Dense)           (None, 10)                650       \n",
            "                                                                 \n",
            "=================================================================\n",
            "Total params: 113,546\n",
            "Trainable params: 113,546\n",
            "Non-trainable params: 0\n",
            "_________________________________________________________________\n"
          ]
        }
      ]
    },
    {
      "cell_type": "code",
      "source": [
        "history = model.fit(\n",
        "    X_train,\n",
        "    y_train,\n",
        "    epochs=40,\n",
        "    batch_size=256,\n",
        "    validation_data=(X_test, y_test)\n",
        ")"
      ],
      "metadata": {
        "colab": {
          "base_uri": "https://localhost:8080/"
        },
        "id": "5GrT8jmc9QuZ",
        "outputId": "014ac984-a7b2-4836-c72b-b73c87686c11"
      },
      "execution_count": 180,
      "outputs": [
        {
          "output_type": "stream",
          "name": "stdout",
          "text": [
            "Epoch 1/40\n",
            "235/235 [==============================] - 4s 11ms/step - loss: 0.8432 - accuracy: 0.7018 - val_loss: 0.5164 - val_accuracy: 0.8118\n",
            "Epoch 2/40\n",
            "235/235 [==============================] - 2s 10ms/step - loss: 0.5003 - accuracy: 0.8231 - val_loss: 0.4210 - val_accuracy: 0.8474\n",
            "Epoch 3/40\n",
            "235/235 [==============================] - 4s 15ms/step - loss: 0.4384 - accuracy: 0.8472 - val_loss: 0.4005 - val_accuracy: 0.8567\n",
            "Epoch 4/40\n",
            "235/235 [==============================] - 2s 10ms/step - loss: 0.4066 - accuracy: 0.8564 - val_loss: 0.3797 - val_accuracy: 0.8627\n",
            "Epoch 5/40\n",
            "235/235 [==============================] - 2s 10ms/step - loss: 0.3908 - accuracy: 0.8607 - val_loss: 0.3667 - val_accuracy: 0.8711\n",
            "Epoch 6/40\n",
            "235/235 [==============================] - 2s 10ms/step - loss: 0.3704 - accuracy: 0.8686 - val_loss: 0.3628 - val_accuracy: 0.8704\n",
            "Epoch 7/40\n",
            "235/235 [==============================] - 3s 11ms/step - loss: 0.3573 - accuracy: 0.8720 - val_loss: 0.3593 - val_accuracy: 0.8684\n",
            "Epoch 8/40\n",
            "235/235 [==============================] - 4s 16ms/step - loss: 0.3492 - accuracy: 0.8731 - val_loss: 0.3405 - val_accuracy: 0.8765\n",
            "Epoch 9/40\n",
            "235/235 [==============================] - 3s 11ms/step - loss: 0.3340 - accuracy: 0.8809 - val_loss: 0.3453 - val_accuracy: 0.8770\n",
            "Epoch 10/40\n",
            "235/235 [==============================] - 2s 10ms/step - loss: 0.3292 - accuracy: 0.8801 - val_loss: 0.3512 - val_accuracy: 0.8778\n",
            "Epoch 11/40\n",
            "235/235 [==============================] - 2s 10ms/step - loss: 0.3206 - accuracy: 0.8833 - val_loss: 0.3389 - val_accuracy: 0.8783\n",
            "Epoch 12/40\n",
            "235/235 [==============================] - 2s 10ms/step - loss: 0.3139 - accuracy: 0.8856 - val_loss: 0.3409 - val_accuracy: 0.8757\n",
            "Epoch 13/40\n",
            "235/235 [==============================] - 4s 15ms/step - loss: 0.3058 - accuracy: 0.8881 - val_loss: 0.3345 - val_accuracy: 0.8806\n",
            "Epoch 14/40\n",
            "235/235 [==============================] - 2s 10ms/step - loss: 0.3060 - accuracy: 0.8886 - val_loss: 0.3403 - val_accuracy: 0.8791\n",
            "Epoch 15/40\n",
            "235/235 [==============================] - 2s 10ms/step - loss: 0.3009 - accuracy: 0.8893 - val_loss: 0.3248 - val_accuracy: 0.8855\n",
            "Epoch 16/40\n",
            "235/235 [==============================] - 2s 10ms/step - loss: 0.2974 - accuracy: 0.8909 - val_loss: 0.3366 - val_accuracy: 0.8811\n",
            "Epoch 17/40\n",
            "235/235 [==============================] - 2s 10ms/step - loss: 0.2866 - accuracy: 0.8951 - val_loss: 0.3459 - val_accuracy: 0.8778\n",
            "Epoch 18/40\n",
            "235/235 [==============================] - 3s 14ms/step - loss: 0.2874 - accuracy: 0.8949 - val_loss: 0.3353 - val_accuracy: 0.8818\n",
            "Epoch 19/40\n",
            "235/235 [==============================] - 3s 12ms/step - loss: 0.2836 - accuracy: 0.8966 - val_loss: 0.3297 - val_accuracy: 0.8846\n",
            "Epoch 20/40\n",
            "235/235 [==============================] - 2s 10ms/step - loss: 0.2772 - accuracy: 0.8973 - val_loss: 0.3288 - val_accuracy: 0.8813\n",
            "Epoch 21/40\n",
            "235/235 [==============================] - 2s 10ms/step - loss: 0.2742 - accuracy: 0.8983 - val_loss: 0.3330 - val_accuracy: 0.8878\n",
            "Epoch 22/40\n",
            "235/235 [==============================] - 2s 10ms/step - loss: 0.2711 - accuracy: 0.8997 - val_loss: 0.3268 - val_accuracy: 0.8835\n",
            "Epoch 23/40\n",
            "235/235 [==============================] - 3s 15ms/step - loss: 0.2713 - accuracy: 0.8985 - val_loss: 0.3298 - val_accuracy: 0.8842\n",
            "Epoch 24/40\n",
            "235/235 [==============================] - 2s 10ms/step - loss: 0.2665 - accuracy: 0.9007 - val_loss: 0.3209 - val_accuracy: 0.8896\n",
            "Epoch 25/40\n",
            "235/235 [==============================] - 2s 10ms/step - loss: 0.2640 - accuracy: 0.9028 - val_loss: 0.3276 - val_accuracy: 0.8847\n",
            "Epoch 26/40\n",
            "235/235 [==============================] - 2s 10ms/step - loss: 0.2597 - accuracy: 0.9032 - val_loss: 0.3244 - val_accuracy: 0.8868\n",
            "Epoch 27/40\n",
            "235/235 [==============================] - 2s 10ms/step - loss: 0.2582 - accuracy: 0.9039 - val_loss: 0.3229 - val_accuracy: 0.8881\n",
            "Epoch 28/40\n",
            "235/235 [==============================] - 3s 15ms/step - loss: 0.2540 - accuracy: 0.9064 - val_loss: 0.3262 - val_accuracy: 0.8848\n",
            "Epoch 29/40\n",
            "235/235 [==============================] - 3s 11ms/step - loss: 0.2557 - accuracy: 0.9061 - val_loss: 0.3254 - val_accuracy: 0.8859\n",
            "Epoch 30/40\n",
            "235/235 [==============================] - 3s 11ms/step - loss: 0.2549 - accuracy: 0.9057 - val_loss: 0.3291 - val_accuracy: 0.8858\n",
            "Epoch 31/40\n",
            "235/235 [==============================] - 2s 10ms/step - loss: 0.2457 - accuracy: 0.9093 - val_loss: 0.3231 - val_accuracy: 0.8836\n",
            "Epoch 32/40\n",
            "235/235 [==============================] - 2s 10ms/step - loss: 0.2428 - accuracy: 0.9108 - val_loss: 0.3190 - val_accuracy: 0.8885\n",
            "Epoch 33/40\n",
            "235/235 [==============================] - 3s 14ms/step - loss: 0.2415 - accuracy: 0.9100 - val_loss: 0.3287 - val_accuracy: 0.8862\n",
            "Epoch 34/40\n",
            "235/235 [==============================] - 3s 12ms/step - loss: 0.2399 - accuracy: 0.9106 - val_loss: 0.3249 - val_accuracy: 0.8887\n",
            "Epoch 35/40\n",
            "235/235 [==============================] - 2s 10ms/step - loss: 0.2399 - accuracy: 0.9116 - val_loss: 0.3261 - val_accuracy: 0.8871\n",
            "Epoch 36/40\n",
            "235/235 [==============================] - 3s 11ms/step - loss: 0.2412 - accuracy: 0.9113 - val_loss: 0.3431 - val_accuracy: 0.8869\n",
            "Epoch 37/40\n",
            "235/235 [==============================] - 2s 10ms/step - loss: 0.2366 - accuracy: 0.9127 - val_loss: 0.3248 - val_accuracy: 0.8875\n",
            "Epoch 38/40\n",
            "235/235 [==============================] - 3s 14ms/step - loss: 0.2345 - accuracy: 0.9140 - val_loss: 0.3315 - val_accuracy: 0.8887\n",
            "Epoch 39/40\n",
            "235/235 [==============================] - 3s 12ms/step - loss: 0.2350 - accuracy: 0.9140 - val_loss: 0.3382 - val_accuracy: 0.8877\n",
            "Epoch 40/40\n",
            "235/235 [==============================] - 2s 10ms/step - loss: 0.2309 - accuracy: 0.9152 - val_loss: 0.3174 - val_accuracy: 0.8910\n"
          ]
        }
      ]
    },
    {
      "cell_type": "code",
      "source": [
        "results = model.evaluate(X_test, y_test)\n",
        "results"
      ],
      "metadata": {
        "colab": {
          "base_uri": "https://localhost:8080/"
        },
        "id": "rUzNn_EQ9kTI",
        "outputId": "325faafe-d7bc-40a7-f0cd-82ec529a8f11"
      },
      "execution_count": 181,
      "outputs": [
        {
          "output_type": "stream",
          "name": "stdout",
          "text": [
            "313/313 [==============================] - 1s 3ms/step - loss: 0.3174 - accuracy: 0.8910\n"
          ]
        },
        {
          "output_type": "execute_result",
          "data": {
            "text/plain": [
              "[0.31742337346076965, 0.890999972820282]"
            ]
          },
          "metadata": {},
          "execution_count": 181
        }
      ]
    },
    {
      "cell_type": "code",
      "source": [
        "pd.DataFrame(history.history).plot(figsize=(8, 5))\n",
        "plt.grid(True)\n",
        "plt.gca().set_ylim(0, 1)\n",
        "plt.show()"
      ],
      "metadata": {
        "colab": {
          "base_uri": "https://localhost:8080/",
          "height": 451
        },
        "id": "nPcFCway939o",
        "outputId": "5b135126-6a13-410a-9d96-8bfe3265a95c"
      },
      "execution_count": 182,
      "outputs": [
        {
          "output_type": "display_data",
          "data": {
            "text/plain": [
              "<Figure size 800x500 with 1 Axes>"
            ],
            "image/png": "[encoded data removed]"
          },
          "metadata": {}
        }
      ]
    },
    {
      "cell_type": "code",
      "source": [
        "import random\n",
        "\n",
        "images_count = 10\n",
        "random_indices = np.random.choice(range(len(X_test)), size=images_count, replace=False)\n",
        "\n",
        "test_image = X_test[random_indices]\n",
        "test_values = y_test[random_indices]\n",
        "\n",
        "\n",
        "predict = model.predict(test_image)\n",
        "predict_values = np.argmax(predict, axis=1)\n",
        "\n",
        "plt.figure(figsize=(12, 8))\n",
        "\n",
        "for i, index in enumerate(random_indices):\n",
        "    plt.subplot(2, 5, i + 1)\n",
        "    plt.imshow(X_test[index].reshape(28, 28), cmap='gray')\n",
        "    plt.title(\"True: %s\\nPredict: %s\" % (test_values[i], predict_values[i]), color=(\"green\" if predict_values[i] == test_values[i] else \"red\"))\n",
        "    plt.axis('off')\n",
        "\n",
        "plt.tight_layout()\n",
        "plt.show()"
      ],
      "metadata": {
        "colab": {
          "base_uri": "https://localhost:8080/",
          "height": 673
        },
        "id": "EDG_POCp-BD_",
        "outputId": "6acec904-e578-482b-a063-c61f2d272c34"
      },
      "execution_count": 183,
      "outputs": [
        {
          "output_type": "stream",
          "name": "stdout",
          "text": [
            "1/1 [==============================] - 0s 73ms/step\n"
          ]
        },
        {
          "output_type": "display_data",
          "data": {
            "text/plain": [
              "<Figure size 1200x800 with 10 Axes>"
            ],
            "image/png": "[encoded data removed]"
          },
          "metadata": {}
        }
      ]
    },
    {
      "cell_type": "markdown",
      "source": [
        "# Для виконання завдання:\n",
        "\n",
        "Щоб досягти таких значень вам знадобиться поекспериментувати з гіперпараметрами мережі:\n",
        "\n",
        "кількість шарів;\n",
        "\n",
        "кількість нейронів;\n",
        "\n",
        "функції активації;\n",
        "\n",
        "кількість епох;\n",
        "\n",
        "розмір батчу;\n",
        "\n",
        "вибір оптимізатора;\n",
        "\n",
        "різні техніки регуляризації і т.д.\n",
        "\n",
        "Для автоматизації процесу можна скористатися keras-tuner (приклад нижче)"
      ],
      "metadata": {
        "id": "iRV030Q_9SXB"
      }
    },
    {
      "cell_type": "code",
      "source": [
        "! pip install keras-tuner"
      ],
      "metadata": {
        "colab": {
          "base_uri": "https://localhost:8080/"
        },
        "id": "ekaohuMcmFz9",
        "outputId": "667b70bd-d1a2-4ed6-a4be-ea64629014f4"
      },
      "execution_count": 131,
      "outputs": [
        {
          "output_type": "stream",
          "name": "stdout",
          "text": [
            "Requirement already satisfied: keras-tuner in /usr/local/lib/python3.10/dist-packages (1.3.5)\n",
            "Requirement already satisfied: packaging in /usr/local/lib/python3.10/dist-packages (from keras-tuner) (23.1)\n",
            "Requirement already satisfied: requests in /usr/local/lib/python3.10/dist-packages (from keras-tuner) (2.27.1)\n",
            "Requirement already satisfied: kt-legacy in /usr/local/lib/python3.10/dist-packages (from keras-tuner) (1.0.5)\n",
            "Requirement already satisfied: urllib3<1.27,>=1.21.1 in /usr/local/lib/python3.10/dist-packages (from requests->keras-tuner) (1.26.16)\n",
            "Requirement already satisfied: certifi>=2017.4.17 in /usr/local/lib/python3.10/dist-packages (from requests->keras-tuner) (2023.5.7)\n",
            "Requirement already satisfied: charset-normalizer~=2.0.0 in /usr/local/lib/python3.10/dist-packages (from requests->keras-tuner) (2.0.12)\n",
            "Requirement already satisfied: idna<4,>=2.5 in /usr/local/lib/python3.10/dist-packages (from requests->keras-tuner) (3.4)\n"
          ]
        }
      ]
    },
    {
      "cell_type": "code",
      "source": [
        "from tensorflow import keras\n",
        "from keras import layers\n",
        "from kerastuner import RandomSearch\n",
        "\n",
        "\n",
        "# Функція для створення та компіляції моделі\n",
        "def build_model(hp):\n",
        "    model = keras.Sequential()\n",
        "    # model.add(layers.Flatten(input_shape=(28, 28)))\n",
        "    # model_1.add(input_shape=[784,])\n",
        "\n",
        "    # Перебираємо параметри кількості шарів та нейронів\n",
        "    for i in range(hp.Int('num_layers', 1, 5)):  # От 1 до 5 слоев\n",
        "        model.add(layers.Dense(units=hp.Int('units_' + str(i), 32, 128, 32), activation='relu'))\n",
        "\n",
        "    model.add(layers.Dense(10, activation='softmax'))\n",
        "\n",
        "    # Перебираємо оптимізатори\n",
        "    model.compile(optimizer=hp.Choice('optimizer', ['adam', 'rmsprop', 'sgd']),\n",
        "                  loss='sparse_categorical_crossentropy',\n",
        "                  metrics=['accuracy'])\n",
        "    return model\n",
        "\n",
        "# Завантажуємо дані\n",
        "(X_train, y_train), (X_test, y_test) = fashion_mnist.load_data()\n",
        "\n",
        "X_train = X_train.astype('float32') / 255.0\n",
        "X_test = X_test.astype('float32') / 255.0\n",
        "\n",
        "X_train = X_train.reshape(-1, 784)\n",
        "X_test = X_test.reshape(-1, 784)\n",
        "\n",
        "# Створюємо об'єкт для пошуку найкращої моделі\n",
        "tuner = RandomSearch(\n",
        "    build_model,\n",
        "    objective='val_accuracy',\n",
        "    max_trials=10,  # Кількість ітерацій для пошуку\n",
        "    directory='my_dir_1',  # Шлях до папки для збереження результатів\n",
        "    project_name='mnist_model_search'\n",
        ")\n",
        "\n",
        "# Запускаємо пошук найкращої моделі\n",
        "tuner.search(X_train, y_train, epochs=10, validation_data=(X_test, y_test))\n",
        "\n",
        "# Отримуємо найкращу модель та результати пошуку\n",
        "best_model = tuner.get_best_models(num_models=1)[0]\n",
        "best_hyperparameters = tuner.get_best_hyperparameters(num_trials=1)[0]\n",
        "\n",
        "# Створимо список для параметрів шарів\n",
        "layers_config = [f\"Layer_{i+1}: {best_hyperparameters.get('units_' + str(i))} units\" for i in range(best_hyperparameters.get('num_layers'))]\n",
        "\n",
        "# Виводимо результати\n",
        "results = pd.DataFrame({\n",
        "    'Model Configuration': [', '.join(layers_config)],\n",
        "    'Optimizer': [best_hyperparameters.get('optimizer')],\n",
        "    'Validation Accuracy': [best_model.evaluate(X_test, y_test, verbose=0)[1]]\n",
        "})\n",
        "\n",
        "print(results)"
      ],
      "metadata": {
        "colab": {
          "base_uri": "https://localhost:8080/"
        },
        "id": "crinS2nIl1Gi",
        "outputId": "98e4201a-50dc-418f-e43d-703422d41a8b"
      },
      "execution_count": 137,
      "outputs": [
        {
          "output_type": "stream",
          "name": "stdout",
          "text": [
            "Trial 10 Complete [00h 01m 24s]\n",
            "val_accuracy: 0.8773000240325928\n",
            "\n",
            "Best val_accuracy So Far: 0.8774999976158142\n",
            "Total elapsed time: 00h 16m 11s\n",
            "                                 Model Configuration Optimizer  \\\n",
            "0  Layer_1: 96 units, Layer_2: 32 units, Layer_3:...      adam   \n",
            "\n",
            "   Validation Accuracy  \n",
            "0               0.8775  \n"
          ]
        }
      ]
    },
    {
      "cell_type": "code",
      "source": [
        "best_model.summary()\n",
        "# найкраща модель"
      ],
      "metadata": {
        "colab": {
          "base_uri": "https://localhost:8080/"
        },
        "id": "oVlfELVV0Dye",
        "outputId": "8c8a833f-5c58-419a-f912-f9ec7b3d3eb5"
      },
      "execution_count": 138,
      "outputs": [
        {
          "output_type": "stream",
          "name": "stdout",
          "text": [
            "Model: \"sequential\"\n",
            "_________________________________________________________________\n",
            " Layer (type)                Output Shape              Param #   \n",
            "=================================================================\n",
            " dense (Dense)               (None, 96)                75360     \n",
            "                                                                 \n",
            " dense_1 (Dense)             (None, 32)                3104      \n",
            "                                                                 \n",
            " dense_2 (Dense)             (None, 32)                1056      \n",
            "                                                                 \n",
            " dense_3 (Dense)             (None, 32)                1056      \n",
            "                                                                 \n",
            " dense_4 (Dense)             (None, 10)                330       \n",
            "                                                                 \n",
            "=================================================================\n",
            "Total params: 80,906\n",
            "Trainable params: 80,906\n",
            "Non-trainable params: 0\n",
            "_________________________________________________________________\n"
          ]
        }
      ]
    },
    {
      "cell_type": "code",
      "source": [
        "tuner.results_summary()\n",
        "# результати пошуку"
      ],
      "metadata": {
        "colab": {
          "base_uri": "https://localhost:8080/"
        },
        "id": "n7b3s2P10h6O",
        "outputId": "852bcb2c-0c7c-4bb0-8b4c-fc6291cab92d"
      },
      "execution_count": 139,
      "outputs": [
        {
          "output_type": "stream",
          "name": "stdout",
          "text": [
            "Results summary\n",
            "Results in my_dir_1/mnist_model_search\n",
            "Showing 10 best trials\n",
            "Objective(name=\"val_accuracy\", direction=\"max\")\n",
            "\n",
            "Trial 01 summary\n",
            "Hyperparameters:\n",
            "num_layers: 4\n",
            "units_0: 96\n",
            "optimizer: adam\n",
            "units_1: 32\n",
            "units_2: 32\n",
            "units_3: 32\n",
            "Score: 0.8774999976158142\n",
            "\n",
            "Trial 06 summary\n",
            "Hyperparameters:\n",
            "num_layers: 2\n",
            "units_0: 128\n",
            "optimizer: rmsprop\n",
            "units_1: 64\n",
            "units_2: 128\n",
            "units_3: 96\n",
            "units_4: 96\n",
            "Score: 0.8774999976158142\n",
            "\n",
            "Trial 09 summary\n",
            "Hyperparameters:\n",
            "num_layers: 4\n",
            "units_0: 64\n",
            "optimizer: adam\n",
            "units_1: 32\n",
            "units_2: 96\n",
            "units_3: 128\n",
            "units_4: 32\n",
            "Score: 0.8773000240325928\n",
            "\n",
            "Trial 03 summary\n",
            "Hyperparameters:\n",
            "num_layers: 1\n",
            "units_0: 64\n",
            "optimizer: rmsprop\n",
            "units_1: 64\n",
            "units_2: 128\n",
            "units_3: 64\n",
            "units_4: 32\n",
            "Score: 0.8769000172615051\n",
            "\n",
            "Trial 00 summary\n",
            "Hyperparameters:\n",
            "num_layers: 2\n",
            "units_0: 128\n",
            "optimizer: rmsprop\n",
            "units_1: 32\n",
            "Score: 0.8752999901771545\n",
            "\n",
            "Trial 05 summary\n",
            "Hyperparameters:\n",
            "num_layers: 3\n",
            "units_0: 32\n",
            "optimizer: rmsprop\n",
            "units_1: 96\n",
            "units_2: 32\n",
            "units_3: 64\n",
            "units_4: 32\n",
            "Score: 0.8712000250816345\n",
            "\n",
            "Trial 07 summary\n",
            "Hyperparameters:\n",
            "num_layers: 4\n",
            "units_0: 96\n",
            "optimizer: sgd\n",
            "units_1: 32\n",
            "units_2: 32\n",
            "units_3: 32\n",
            "units_4: 96\n",
            "Score: 0.8655999898910522\n",
            "\n",
            "Trial 02 summary\n",
            "Hyperparameters:\n",
            "num_layers: 5\n",
            "units_0: 96\n",
            "optimizer: sgd\n",
            "units_1: 96\n",
            "units_2: 32\n",
            "units_3: 128\n",
            "units_4: 32\n",
            "Score: 0.8644999861717224\n",
            "\n",
            "Trial 04 summary\n",
            "Hyperparameters:\n",
            "num_layers: 4\n",
            "units_0: 128\n",
            "optimizer: rmsprop\n",
            "units_1: 128\n",
            "units_2: 128\n",
            "units_3: 64\n",
            "units_4: 128\n",
            "Score: 0.8629000186920166\n",
            "\n",
            "Trial 08 summary\n",
            "Hyperparameters:\n",
            "num_layers: 2\n",
            "units_0: 64\n",
            "optimizer: sgd\n",
            "units_1: 32\n",
            "units_2: 64\n",
            "units_3: 128\n",
            "units_4: 128\n",
            "Score: 0.8611999750137329\n"
          ]
        }
      ]
    },
    {
      "cell_type": "markdown",
      "source": [
        "Для досягнення високих результатів потрібен досвід та час. Напрямок маємо, завзятість теж. Не зупиняймося. Але це вже інша історія."
      ],
      "metadata": {
        "id": "mTCcXRN69ukZ"
      }
    }
  ]
}