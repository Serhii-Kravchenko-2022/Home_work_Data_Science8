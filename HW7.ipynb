{
  "nbformat": 4,
  "nbformat_minor": 0,
  "metadata": {
    "colab": {
      "provenance": [],
      "mount_file_id": "1h-EDX3H4CpR0s85POvqWzqUl_mIl9uKC",
      "authorship_tag": "ABX9TyMcXj2dJHbz1SKfe566BHLY",
      "include_colab_link": true
    },
    "kernelspec": {
      "name": "python3",
      "display_name": "Python 3"
    },
    "language_info": {
      "name": "python"
    }
  },
  "cells": [
    {
      "cell_type": "markdown",
      "metadata": {
        "id": "view-in-github",
        "colab_type": "text"
      },
      "source": [
        "<a href=\"https://colab.research.google.com/github/Serhii-Kravchenko-2022/Home_work_Data_Science8/blob/main/HW7.ipynb\" target=\"_parent\"><img src=\"https://colab.research.google.com/assets/colab-badge.svg\" alt=\"Open In Colab\"/></a>"
      ]
    },
    {
      "cell_type": "markdown",
      "source": [
        "Home work for module 7 by\n",
        "кравченко Сергій"
      ],
      "metadata": {
        "id": "TGDnfAnk5gBr"
      }
    },
    {
      "cell_type": "markdown",
      "source": [
        "# Рекомендаційні системи\n",
        "\n",
        "# Частина перша\n",
        "\n",
        "Візьміть датасет movielens і побудуйте модель матричної факторизації. У даній бібліотеці він має назву SVD. Підберіть найкращі параметри за допомогою крос-валідації, також поекспериментуйте з іншими алгоритмами розрахунків (SVD++, NMF) і оберіть той, який буде оптимальним."
      ],
      "metadata": {
        "id": "YAduyJk_5pSG"
      }
    },
    {
      "cell_type": "code",
      "source": [
        "from google.colab import drive\n",
        "\n",
        "drive.mount('/DataScience8')"
      ],
      "metadata": {
        "colab": {
          "base_uri": "https://localhost:8080/"
        },
        "id": "QHJibxdZ59v7",
        "outputId": "3f3fc30d-8064-45b5-c76a-f442a4509b9d"
      },
      "execution_count": 6,
      "outputs": [
        {
          "output_type": "stream",
          "name": "stdout",
          "text": [
            "Mounted at /DataScience8\n"
          ]
        }
      ]
    },
    {
      "cell_type": "code",
      "source": [
        "file_ratings = '/DataScience8/MyDrive/DataScience8/ml-latest-small/ratings.csv'\n",
        "file_movies = '/DataScience8/MyDrive/DataScience8/ml-latest-small/movies.csv'\n",
        "file_tags = '/DataScience8/MyDrive/DataScience8/ml-latest-small/tags.csv'\n",
        "\n",
        "ratings = pd.read_csv(file_ratings)\n",
        "movies = pd.read_csv(file_movies)\n",
        "tags = pd.read_csv(file_tags)"
      ],
      "metadata": {
        "id": "iyj-DuPY6rUz"
      },
      "execution_count": 9,
      "outputs": []
    },
    {
      "cell_type": "code",
      "source": [
        "ratings.head()"
      ],
      "metadata": {
        "colab": {
          "base_uri": "https://localhost:8080/",
          "height": 206
        },
        "id": "q_ONdj9S7es3",
        "outputId": "02207c86-c419-44b5-c854-5bbba936fead"
      },
      "execution_count": 10,
      "outputs": [
        {
          "output_type": "execute_result",
          "data": {
            "text/plain": [
              "   userId  movieId  rating  timestamp\n",
              "0       1        1     4.0  964982703\n",
              "1       1        3     4.0  964981247\n",
              "2       1        6     4.0  964982224\n",
              "3       1       47     5.0  964983815\n",
              "4       1       50     5.0  964982931"
            ],
            "text/html": [
              "\n",
              "  <div id=\"df-6f1fb715-368a-4456-aa31-68d2529a0b39\">\n",
              "    <div class=\"colab-df-container\">\n",
              "      <div>\n",
              "<style scoped>\n",
              "    .dataframe tbody tr th:only-of-type {\n",
              "        vertical-align: middle;\n",
              "    }\n",
              "\n",
              "    .dataframe tbody tr th {\n",
              "        vertical-align: top;\n",
              "    }\n",
              "\n",
              "    .dataframe thead th {\n",
              "        text-align: right;\n",
              "    }\n",
              "</style>\n",
              "<table border=\"1\" class=\"dataframe\">\n",
              "  <thead>\n",
              "    <tr style=\"text-align: right;\">\n",
              "      <th></th>\n",
              "      <th>userId</th>\n",
              "      <th>movieId</th>\n",
              "      <th>rating</th>\n",
              "      <th>timestamp</th>\n",
              "    </tr>\n",
              "  </thead>\n",
              "  <tbody>\n",
              "    <tr>\n",
              "      <th>0</th>\n",
              "      <td>1</td>\n",
              "      <td>1</td>\n",
              "      <td>4.0</td>\n",
              "      <td>964982703</td>\n",
              "    </tr>\n",
              "    <tr>\n",
              "      <th>1</th>\n",
              "      <td>1</td>\n",
              "      <td>3</td>\n",
              "      <td>4.0</td>\n",
              "      <td>964981247</td>\n",
              "    </tr>\n",
              "    <tr>\n",
              "      <th>2</th>\n",
              "      <td>1</td>\n",
              "      <td>6</td>\n",
              "      <td>4.0</td>\n",
              "      <td>964982224</td>\n",
              "    </tr>\n",
              "    <tr>\n",
              "      <th>3</th>\n",
              "      <td>1</td>\n",
              "      <td>47</td>\n",
              "      <td>5.0</td>\n",
              "      <td>964983815</td>\n",
              "    </tr>\n",
              "    <tr>\n",
              "      <th>4</th>\n",
              "      <td>1</td>\n",
              "      <td>50</td>\n",
              "      <td>5.0</td>\n",
              "      <td>964982931</td>\n",
              "    </tr>\n",
              "  </tbody>\n",
              "</table>\n",
              "</div>\n",
              "      <button class=\"colab-df-convert\" onclick=\"convertToInteractive('df-6f1fb715-368a-4456-aa31-68d2529a0b39')\"\n",
              "              title=\"Convert this dataframe to an interactive table.\"\n",
              "              style=\"display:none;\">\n",
              "        \n",
              "  <svg xmlns=\"http://www.w3.org/2000/svg\" height=\"24px\"viewBox=\"0 0 24 24\"\n",
              "       width=\"24px\">\n",
              "    <path d=\"M0 0h24v24H0V0z\" fill=\"none\"/>\n",
              "    <path d=\"M18.56 5.44l.94 2.06.94-2.06 2.06-.94-2.06-.94-.94-2.06-.94 2.06-2.06.94zm-11 1L8.5 8.5l.94-2.06 2.06-.94-2.06-.94L8.5 2.5l-.94 2.06-2.06.94zm10 10l.94 2.06.94-2.06 2.06-.94-2.06-.94-.94-2.06-.94 2.06-2.06.94z\"/><path d=\"M17.41 7.96l-1.37-1.37c-.4-.4-.92-.59-1.43-.59-.52 0-1.04.2-1.43.59L10.3 9.45l-7.72 7.72c-.78.78-.78 2.05 0 2.83L4 21.41c.39.39.9.59 1.41.59.51 0 1.02-.2 1.41-.59l7.78-7.78 2.81-2.81c.8-.78.8-2.07 0-2.86zM5.41 20L4 18.59l7.72-7.72 1.47 1.35L5.41 20z\"/>\n",
              "  </svg>\n",
              "      </button>\n",
              "      \n",
              "  <style>\n",
              "    .colab-df-container {\n",
              "      display:flex;\n",
              "      flex-wrap:wrap;\n",
              "      gap: 12px;\n",
              "    }\n",
              "\n",
              "    .colab-df-convert {\n",
              "      background-color: #E8F0FE;\n",
              "      border: none;\n",
              "      border-radius: 50%;\n",
              "      cursor: pointer;\n",
              "      display: none;\n",
              "      fill: #1967D2;\n",
              "      height: 32px;\n",
              "      padding: 0 0 0 0;\n",
              "      width: 32px;\n",
              "    }\n",
              "\n",
              "    .colab-df-convert:hover {\n",
              "      background-color: #E2EBFA;\n",
              "      box-shadow: 0px 1px 2px rgba(60, 64, 67, 0.3), 0px 1px 3px 1px rgba(60, 64, 67, 0.15);\n",
              "      fill: #174EA6;\n",
              "    }\n",
              "\n",
              "    [theme=dark] .colab-df-convert {\n",
              "      background-color: #3B4455;\n",
              "      fill: #D2E3FC;\n",
              "    }\n",
              "\n",
              "    [theme=dark] .colab-df-convert:hover {\n",
              "      background-color: #434B5C;\n",
              "      box-shadow: 0px 1px 3px 1px rgba(0, 0, 0, 0.15);\n",
              "      filter: drop-shadow(0px 1px 2px rgba(0, 0, 0, 0.3));\n",
              "      fill: #FFFFFF;\n",
              "    }\n",
              "  </style>\n",
              "\n",
              "      <script>\n",
              "        const buttonEl =\n",
              "          document.querySelector('#df-6f1fb715-368a-4456-aa31-68d2529a0b39 button.colab-df-convert');\n",
              "        buttonEl.style.display =\n",
              "          google.colab.kernel.accessAllowed ? 'block' : 'none';\n",
              "\n",
              "        async function convertToInteractive(key) {\n",
              "          const element = document.querySelector('#df-6f1fb715-368a-4456-aa31-68d2529a0b39');\n",
              "          const dataTable =\n",
              "            await google.colab.kernel.invokeFunction('convertToInteractive',\n",
              "                                                     [key], {});\n",
              "          if (!dataTable) return;\n",
              "\n",
              "          const docLinkHtml = 'Like what you see? Visit the ' +\n",
              "            '<a target=\"_blank\" href=https://colab.research.google.com/notebooks/data_table.ipynb>data table notebook</a>'\n",
              "            + ' to learn more about interactive tables.';\n",
              "          element.innerHTML = '';\n",
              "          dataTable['output_type'] = 'display_data';\n",
              "          await google.colab.output.renderOutput(dataTable, element);\n",
              "          const docLink = document.createElement('div');\n",
              "          docLink.innerHTML = docLinkHtml;\n",
              "          element.appendChild(docLink);\n",
              "        }\n",
              "      </script>\n",
              "    </div>\n",
              "  </div>\n",
              "  "
            ]
          },
          "metadata": {},
          "execution_count": 10
        }
      ]
    },
    {
      "cell_type": "code",
      "source": [
        "movies.head()"
      ],
      "metadata": {
        "colab": {
          "base_uri": "https://localhost:8080/",
          "height": 206
        },
        "id": "rrvuZTi07oxb",
        "outputId": "337fa577-1dec-4923-b53c-1750baebce70"
      },
      "execution_count": 11,
      "outputs": [
        {
          "output_type": "execute_result",
          "data": {
            "text/plain": [
              "   movieId                               title  \\\n",
              "0        1                    Toy Story (1995)   \n",
              "1        2                      Jumanji (1995)   \n",
              "2        3             Grumpier Old Men (1995)   \n",
              "3        4            Waiting to Exhale (1995)   \n",
              "4        5  Father of the Bride Part II (1995)   \n",
              "\n",
              "                                        genres  \n",
              "0  Adventure|Animation|Children|Comedy|Fantasy  \n",
              "1                   Adventure|Children|Fantasy  \n",
              "2                               Comedy|Romance  \n",
              "3                         Comedy|Drama|Romance  \n",
              "4                                       Comedy  "
            ],
            "text/html": [
              "\n",
              "  <div id=\"df-8e97f57a-780e-4dea-ba18-bdd9b80c528b\">\n",
              "    <div class=\"colab-df-container\">\n",
              "      <div>\n",
              "<style scoped>\n",
              "    .dataframe tbody tr th:only-of-type {\n",
              "        vertical-align: middle;\n",
              "    }\n",
              "\n",
              "    .dataframe tbody tr th {\n",
              "        vertical-align: top;\n",
              "    }\n",
              "\n",
              "    .dataframe thead th {\n",
              "        text-align: right;\n",
              "    }\n",
              "</style>\n",
              "<table border=\"1\" class=\"dataframe\">\n",
              "  <thead>\n",
              "    <tr style=\"text-align: right;\">\n",
              "      <th></th>\n",
              "      <th>movieId</th>\n",
              "      <th>title</th>\n",
              "      <th>genres</th>\n",
              "    </tr>\n",
              "  </thead>\n",
              "  <tbody>\n",
              "    <tr>\n",
              "      <th>0</th>\n",
              "      <td>1</td>\n",
              "      <td>Toy Story (1995)</td>\n",
              "      <td>Adventure|Animation|Children|Comedy|Fantasy</td>\n",
              "    </tr>\n",
              "    <tr>\n",
              "      <th>1</th>\n",
              "      <td>2</td>\n",
              "      <td>Jumanji (1995)</td>\n",
              "      <td>Adventure|Children|Fantasy</td>\n",
              "    </tr>\n",
              "    <tr>\n",
              "      <th>2</th>\n",
              "      <td>3</td>\n",
              "      <td>Grumpier Old Men (1995)</td>\n",
              "      <td>Comedy|Romance</td>\n",
              "    </tr>\n",
              "    <tr>\n",
              "      <th>3</th>\n",
              "      <td>4</td>\n",
              "      <td>Waiting to Exhale (1995)</td>\n",
              "      <td>Comedy|Drama|Romance</td>\n",
              "    </tr>\n",
              "    <tr>\n",
              "      <th>4</th>\n",
              "      <td>5</td>\n",
              "      <td>Father of the Bride Part II (1995)</td>\n",
              "      <td>Comedy</td>\n",
              "    </tr>\n",
              "  </tbody>\n",
              "</table>\n",
              "</div>\n",
              "      <button class=\"colab-df-convert\" onclick=\"convertToInteractive('df-8e97f57a-780e-4dea-ba18-bdd9b80c528b')\"\n",
              "              title=\"Convert this dataframe to an interactive table.\"\n",
              "              style=\"display:none;\">\n",
              "        \n",
              "  <svg xmlns=\"http://www.w3.org/2000/svg\" height=\"24px\"viewBox=\"0 0 24 24\"\n",
              "       width=\"24px\">\n",
              "    <path d=\"M0 0h24v24H0V0z\" fill=\"none\"/>\n",
              "    <path d=\"M18.56 5.44l.94 2.06.94-2.06 2.06-.94-2.06-.94-.94-2.06-.94 2.06-2.06.94zm-11 1L8.5 8.5l.94-2.06 2.06-.94-2.06-.94L8.5 2.5l-.94 2.06-2.06.94zm10 10l.94 2.06.94-2.06 2.06-.94-2.06-.94-.94-2.06-.94 2.06-2.06.94z\"/><path d=\"M17.41 7.96l-1.37-1.37c-.4-.4-.92-.59-1.43-.59-.52 0-1.04.2-1.43.59L10.3 9.45l-7.72 7.72c-.78.78-.78 2.05 0 2.83L4 21.41c.39.39.9.59 1.41.59.51 0 1.02-.2 1.41-.59l7.78-7.78 2.81-2.81c.8-.78.8-2.07 0-2.86zM5.41 20L4 18.59l7.72-7.72 1.47 1.35L5.41 20z\"/>\n",
              "  </svg>\n",
              "      </button>\n",
              "      \n",
              "  <style>\n",
              "    .colab-df-container {\n",
              "      display:flex;\n",
              "      flex-wrap:wrap;\n",
              "      gap: 12px;\n",
              "    }\n",
              "\n",
              "    .colab-df-convert {\n",
              "      background-color: #E8F0FE;\n",
              "      border: none;\n",
              "      border-radius: 50%;\n",
              "      cursor: pointer;\n",
              "      display: none;\n",
              "      fill: #1967D2;\n",
              "      height: 32px;\n",
              "      padding: 0 0 0 0;\n",
              "      width: 32px;\n",
              "    }\n",
              "\n",
              "    .colab-df-convert:hover {\n",
              "      background-color: #E2EBFA;\n",
              "      box-shadow: 0px 1px 2px rgba(60, 64, 67, 0.3), 0px 1px 3px 1px rgba(60, 64, 67, 0.15);\n",
              "      fill: #174EA6;\n",
              "    }\n",
              "\n",
              "    [theme=dark] .colab-df-convert {\n",
              "      background-color: #3B4455;\n",
              "      fill: #D2E3FC;\n",
              "    }\n",
              "\n",
              "    [theme=dark] .colab-df-convert:hover {\n",
              "      background-color: #434B5C;\n",
              "      box-shadow: 0px 1px 3px 1px rgba(0, 0, 0, 0.15);\n",
              "      filter: drop-shadow(0px 1px 2px rgba(0, 0, 0, 0.3));\n",
              "      fill: #FFFFFF;\n",
              "    }\n",
              "  </style>\n",
              "\n",
              "      <script>\n",
              "        const buttonEl =\n",
              "          document.querySelector('#df-8e97f57a-780e-4dea-ba18-bdd9b80c528b button.colab-df-convert');\n",
              "        buttonEl.style.display =\n",
              "          google.colab.kernel.accessAllowed ? 'block' : 'none';\n",
              "\n",
              "        async function convertToInteractive(key) {\n",
              "          const element = document.querySelector('#df-8e97f57a-780e-4dea-ba18-bdd9b80c528b');\n",
              "          const dataTable =\n",
              "            await google.colab.kernel.invokeFunction('convertToInteractive',\n",
              "                                                     [key], {});\n",
              "          if (!dataTable) return;\n",
              "\n",
              "          const docLinkHtml = 'Like what you see? Visit the ' +\n",
              "            '<a target=\"_blank\" href=https://colab.research.google.com/notebooks/data_table.ipynb>data table notebook</a>'\n",
              "            + ' to learn more about interactive tables.';\n",
              "          element.innerHTML = '';\n",
              "          dataTable['output_type'] = 'display_data';\n",
              "          await google.colab.output.renderOutput(dataTable, element);\n",
              "          const docLink = document.createElement('div');\n",
              "          docLink.innerHTML = docLinkHtml;\n",
              "          element.appendChild(docLink);\n",
              "        }\n",
              "      </script>\n",
              "    </div>\n",
              "  </div>\n",
              "  "
            ]
          },
          "metadata": {},
          "execution_count": 11
        }
      ]
    },
    {
      "cell_type": "code",
      "source": [
        "tags.head()"
      ],
      "metadata": {
        "colab": {
          "base_uri": "https://localhost:8080/",
          "height": 206
        },
        "id": "CG0f4fg07rdd",
        "outputId": "30d9a6cb-66a0-41e2-cfce-0c2ce65905eb"
      },
      "execution_count": 12,
      "outputs": [
        {
          "output_type": "execute_result",
          "data": {
            "text/plain": [
              "   userId  movieId              tag   timestamp\n",
              "0       2    60756            funny  1445714994\n",
              "1       2    60756  Highly quotable  1445714996\n",
              "2       2    60756     will ferrell  1445714992\n",
              "3       2    89774     Boxing story  1445715207\n",
              "4       2    89774              MMA  1445715200"
            ],
            "text/html": [
              "\n",
              "  <div id=\"df-ba723e15-d41f-4fcf-91da-2e7c85543a1e\">\n",
              "    <div class=\"colab-df-container\">\n",
              "      <div>\n",
              "<style scoped>\n",
              "    .dataframe tbody tr th:only-of-type {\n",
              "        vertical-align: middle;\n",
              "    }\n",
              "\n",
              "    .dataframe tbody tr th {\n",
              "        vertical-align: top;\n",
              "    }\n",
              "\n",
              "    .dataframe thead th {\n",
              "        text-align: right;\n",
              "    }\n",
              "</style>\n",
              "<table border=\"1\" class=\"dataframe\">\n",
              "  <thead>\n",
              "    <tr style=\"text-align: right;\">\n",
              "      <th></th>\n",
              "      <th>userId</th>\n",
              "      <th>movieId</th>\n",
              "      <th>tag</th>\n",
              "      <th>timestamp</th>\n",
              "    </tr>\n",
              "  </thead>\n",
              "  <tbody>\n",
              "    <tr>\n",
              "      <th>0</th>\n",
              "      <td>2</td>\n",
              "      <td>60756</td>\n",
              "      <td>funny</td>\n",
              "      <td>1445714994</td>\n",
              "    </tr>\n",
              "    <tr>\n",
              "      <th>1</th>\n",
              "      <td>2</td>\n",
              "      <td>60756</td>\n",
              "      <td>Highly quotable</td>\n",
              "      <td>1445714996</td>\n",
              "    </tr>\n",
              "    <tr>\n",
              "      <th>2</th>\n",
              "      <td>2</td>\n",
              "      <td>60756</td>\n",
              "      <td>will ferrell</td>\n",
              "      <td>1445714992</td>\n",
              "    </tr>\n",
              "    <tr>\n",
              "      <th>3</th>\n",
              "      <td>2</td>\n",
              "      <td>89774</td>\n",
              "      <td>Boxing story</td>\n",
              "      <td>1445715207</td>\n",
              "    </tr>\n",
              "    <tr>\n",
              "      <th>4</th>\n",
              "      <td>2</td>\n",
              "      <td>89774</td>\n",
              "      <td>MMA</td>\n",
              "      <td>1445715200</td>\n",
              "    </tr>\n",
              "  </tbody>\n",
              "</table>\n",
              "</div>\n",
              "      <button class=\"colab-df-convert\" onclick=\"convertToInteractive('df-ba723e15-d41f-4fcf-91da-2e7c85543a1e')\"\n",
              "              title=\"Convert this dataframe to an interactive table.\"\n",
              "              style=\"display:none;\">\n",
              "        \n",
              "  <svg xmlns=\"http://www.w3.org/2000/svg\" height=\"24px\"viewBox=\"0 0 24 24\"\n",
              "       width=\"24px\">\n",
              "    <path d=\"M0 0h24v24H0V0z\" fill=\"none\"/>\n",
              "    <path d=\"M18.56 5.44l.94 2.06.94-2.06 2.06-.94-2.06-.94-.94-2.06-.94 2.06-2.06.94zm-11 1L8.5 8.5l.94-2.06 2.06-.94-2.06-.94L8.5 2.5l-.94 2.06-2.06.94zm10 10l.94 2.06.94-2.06 2.06-.94-2.06-.94-.94-2.06-.94 2.06-2.06.94z\"/><path d=\"M17.41 7.96l-1.37-1.37c-.4-.4-.92-.59-1.43-.59-.52 0-1.04.2-1.43.59L10.3 9.45l-7.72 7.72c-.78.78-.78 2.05 0 2.83L4 21.41c.39.39.9.59 1.41.59.51 0 1.02-.2 1.41-.59l7.78-7.78 2.81-2.81c.8-.78.8-2.07 0-2.86zM5.41 20L4 18.59l7.72-7.72 1.47 1.35L5.41 20z\"/>\n",
              "  </svg>\n",
              "      </button>\n",
              "      \n",
              "  <style>\n",
              "    .colab-df-container {\n",
              "      display:flex;\n",
              "      flex-wrap:wrap;\n",
              "      gap: 12px;\n",
              "    }\n",
              "\n",
              "    .colab-df-convert {\n",
              "      background-color: #E8F0FE;\n",
              "      border: none;\n",
              "      border-radius: 50%;\n",
              "      cursor: pointer;\n",
              "      display: none;\n",
              "      fill: #1967D2;\n",
              "      height: 32px;\n",
              "      padding: 0 0 0 0;\n",
              "      width: 32px;\n",
              "    }\n",
              "\n",
              "    .colab-df-convert:hover {\n",
              "      background-color: #E2EBFA;\n",
              "      box-shadow: 0px 1px 2px rgba(60, 64, 67, 0.3), 0px 1px 3px 1px rgba(60, 64, 67, 0.15);\n",
              "      fill: #174EA6;\n",
              "    }\n",
              "\n",
              "    [theme=dark] .colab-df-convert {\n",
              "      background-color: #3B4455;\n",
              "      fill: #D2E3FC;\n",
              "    }\n",
              "\n",
              "    [theme=dark] .colab-df-convert:hover {\n",
              "      background-color: #434B5C;\n",
              "      box-shadow: 0px 1px 3px 1px rgba(0, 0, 0, 0.15);\n",
              "      filter: drop-shadow(0px 1px 2px rgba(0, 0, 0, 0.3));\n",
              "      fill: #FFFFFF;\n",
              "    }\n",
              "  </style>\n",
              "\n",
              "      <script>\n",
              "        const buttonEl =\n",
              "          document.querySelector('#df-ba723e15-d41f-4fcf-91da-2e7c85543a1e button.colab-df-convert');\n",
              "        buttonEl.style.display =\n",
              "          google.colab.kernel.accessAllowed ? 'block' : 'none';\n",
              "\n",
              "        async function convertToInteractive(key) {\n",
              "          const element = document.querySelector('#df-ba723e15-d41f-4fcf-91da-2e7c85543a1e');\n",
              "          const dataTable =\n",
              "            await google.colab.kernel.invokeFunction('convertToInteractive',\n",
              "                                                     [key], {});\n",
              "          if (!dataTable) return;\n",
              "\n",
              "          const docLinkHtml = 'Like what you see? Visit the ' +\n",
              "            '<a target=\"_blank\" href=https://colab.research.google.com/notebooks/data_table.ipynb>data table notebook</a>'\n",
              "            + ' to learn more about interactive tables.';\n",
              "          element.innerHTML = '';\n",
              "          dataTable['output_type'] = 'display_data';\n",
              "          await google.colab.output.renderOutput(dataTable, element);\n",
              "          const docLink = document.createElement('div');\n",
              "          docLink.innerHTML = docLinkHtml;\n",
              "          element.appendChild(docLink);\n",
              "        }\n",
              "      </script>\n",
              "    </div>\n",
              "  </div>\n",
              "  "
            ]
          },
          "metadata": {},
          "execution_count": 12
        }
      ]
    },
    {
      "cell_type": "code",
      "source": [
        "!pip install scikit-surprise\n",
        "import pandas as pd\n",
        "import numpy as np\n",
        "from surprise import SVD, NMF, SVDpp, Dataset, Reader, accuracy\n",
        "from surprise.model_selection import cross_validate, train_test_split"
      ],
      "metadata": {
        "colab": {
          "base_uri": "https://localhost:8080/"
        },
        "id": "NubBXyCa78dk",
        "outputId": "dbc50dae-4ef3-4a2d-ff8a-1f613fd59c9b"
      },
      "execution_count": 34,
      "outputs": [
        {
          "output_type": "stream",
          "name": "stdout",
          "text": [
            "Looking in indexes: https://pypi.org/simple, https://us-python.pkg.dev/colab-wheels/public/simple/\n",
            "Requirement already satisfied: scikit-surprise in /usr/local/lib/python3.10/dist-packages (1.1.3)\n",
            "Requirement already satisfied: joblib>=1.0.0 in /usr/local/lib/python3.10/dist-packages (from scikit-surprise) (1.2.0)\n",
            "Requirement already satisfied: numpy>=1.17.3 in /usr/local/lib/python3.10/dist-packages (from scikit-surprise) (1.22.4)\n",
            "Requirement already satisfied: scipy>=1.3.2 in /usr/local/lib/python3.10/dist-packages (from scikit-surprise) (1.10.1)\n"
          ]
        }
      ]
    },
    {
      "cell_type": "code",
      "source": [
        "merge_data = pd.merge(ratings, movies, on='movieId')\n",
        "merge_data = pd.merge(merge_data, tags, on=['userId', 'movieId'])"
      ],
      "metadata": {
        "id": "dV5jU5Hm8y3i"
      },
      "execution_count": 19,
      "outputs": []
    },
    {
      "cell_type": "code",
      "source": [
        "reader = Reader(rating_scale=(1, 5))\n",
        "data = Dataset.load_from_df(merge_data[['userId', 'movieId', 'rating']], reader)"
      ],
      "metadata": {
        "id": "h0upzdPX86S7"
      },
      "execution_count": 20,
      "outputs": []
    },
    {
      "cell_type": "code",
      "source": [
        "result_list = []\n",
        "algorithms = [SVD(), SVDpp(), NMF()]\n",
        "\n",
        "for algorithm in algorithms:\n",
        "    results = cross_validate(algorithm, data, measures=['RMSE', 'MAE'], cv=5, verbose=False)\n",
        "    tmp = pd.DataFrame.from_dict(results).mean(axis=0)\n",
        "    tmp = pd.concat([pd.Series([str(algorithm).split(' ')[0].split('.')[-1]], index=['Algorithm']), tmp])\n",
        "    result_list.append(tmp)"
      ],
      "metadata": {
        "id": "jLTcJukIDbnw"
      },
      "execution_count": 31,
      "outputs": []
    },
    {
      "cell_type": "code",
      "source": [
        "surprise_results = pd.DataFrame(result_list).set_index('Algorithm').sort_values('test_rmse')\n",
        "surprise_results"
      ],
      "metadata": {
        "colab": {
          "base_uri": "https://localhost:8080/",
          "height": 175
        },
        "id": "AQFxV0pgD45e",
        "outputId": "14abc4a9-12af-458d-d943-5068d2e3c7a6"
      },
      "execution_count": 32,
      "outputs": [
        {
          "output_type": "execute_result",
          "data": {
            "text/plain": [
              "           test_rmse  test_mae  fit_time  test_time\n",
              "Algorithm                                          \n",
              "SVDpp       0.533361  0.308001  3.421340   0.196427\n",
              "SVD         0.560877  0.345614  0.114857   0.016376\n",
              "NMF         0.581130  0.293820  0.105762   0.025147"
            ],
            "text/html": [
              "\n",
              "  <div id=\"df-4a52d93a-b9c8-4b29-84bb-0557e0623da0\">\n",
              "    <div class=\"colab-df-container\">\n",
              "      <div>\n",
              "<style scoped>\n",
              "    .dataframe tbody tr th:only-of-type {\n",
              "        vertical-align: middle;\n",
              "    }\n",
              "\n",
              "    .dataframe tbody tr th {\n",
              "        vertical-align: top;\n",
              "    }\n",
              "\n",
              "    .dataframe thead th {\n",
              "        text-align: right;\n",
              "    }\n",
              "</style>\n",
              "<table border=\"1\" class=\"dataframe\">\n",
              "  <thead>\n",
              "    <tr style=\"text-align: right;\">\n",
              "      <th></th>\n",
              "      <th>test_rmse</th>\n",
              "      <th>test_mae</th>\n",
              "      <th>fit_time</th>\n",
              "      <th>test_time</th>\n",
              "    </tr>\n",
              "    <tr>\n",
              "      <th>Algorithm</th>\n",
              "      <th></th>\n",
              "      <th></th>\n",
              "      <th></th>\n",
              "      <th></th>\n",
              "    </tr>\n",
              "  </thead>\n",
              "  <tbody>\n",
              "    <tr>\n",
              "      <th>SVDpp</th>\n",
              "      <td>0.533361</td>\n",
              "      <td>0.308001</td>\n",
              "      <td>3.421340</td>\n",
              "      <td>0.196427</td>\n",
              "    </tr>\n",
              "    <tr>\n",
              "      <th>SVD</th>\n",
              "      <td>0.560877</td>\n",
              "      <td>0.345614</td>\n",
              "      <td>0.114857</td>\n",
              "      <td>0.016376</td>\n",
              "    </tr>\n",
              "    <tr>\n",
              "      <th>NMF</th>\n",
              "      <td>0.581130</td>\n",
              "      <td>0.293820</td>\n",
              "      <td>0.105762</td>\n",
              "      <td>0.025147</td>\n",
              "    </tr>\n",
              "  </tbody>\n",
              "</table>\n",
              "</div>\n",
              "      <button class=\"colab-df-convert\" onclick=\"convertToInteractive('df-4a52d93a-b9c8-4b29-84bb-0557e0623da0')\"\n",
              "              title=\"Convert this dataframe to an interactive table.\"\n",
              "              style=\"display:none;\">\n",
              "        \n",
              "  <svg xmlns=\"http://www.w3.org/2000/svg\" height=\"24px\"viewBox=\"0 0 24 24\"\n",
              "       width=\"24px\">\n",
              "    <path d=\"M0 0h24v24H0V0z\" fill=\"none\"/>\n",
              "    <path d=\"M18.56 5.44l.94 2.06.94-2.06 2.06-.94-2.06-.94-.94-2.06-.94 2.06-2.06.94zm-11 1L8.5 8.5l.94-2.06 2.06-.94-2.06-.94L8.5 2.5l-.94 2.06-2.06.94zm10 10l.94 2.06.94-2.06 2.06-.94-2.06-.94-.94-2.06-.94 2.06-2.06.94z\"/><path d=\"M17.41 7.96l-1.37-1.37c-.4-.4-.92-.59-1.43-.59-.52 0-1.04.2-1.43.59L10.3 9.45l-7.72 7.72c-.78.78-.78 2.05 0 2.83L4 21.41c.39.39.9.59 1.41.59.51 0 1.02-.2 1.41-.59l7.78-7.78 2.81-2.81c.8-.78.8-2.07 0-2.86zM5.41 20L4 18.59l7.72-7.72 1.47 1.35L5.41 20z\"/>\n",
              "  </svg>\n",
              "      </button>\n",
              "      \n",
              "  <style>\n",
              "    .colab-df-container {\n",
              "      display:flex;\n",
              "      flex-wrap:wrap;\n",
              "      gap: 12px;\n",
              "    }\n",
              "\n",
              "    .colab-df-convert {\n",
              "      background-color: #E8F0FE;\n",
              "      border: none;\n",
              "      border-radius: 50%;\n",
              "      cursor: pointer;\n",
              "      display: none;\n",
              "      fill: #1967D2;\n",
              "      height: 32px;\n",
              "      padding: 0 0 0 0;\n",
              "      width: 32px;\n",
              "    }\n",
              "\n",
              "    .colab-df-convert:hover {\n",
              "      background-color: #E2EBFA;\n",
              "      box-shadow: 0px 1px 2px rgba(60, 64, 67, 0.3), 0px 1px 3px 1px rgba(60, 64, 67, 0.15);\n",
              "      fill: #174EA6;\n",
              "    }\n",
              "\n",
              "    [theme=dark] .colab-df-convert {\n",
              "      background-color: #3B4455;\n",
              "      fill: #D2E3FC;\n",
              "    }\n",
              "\n",
              "    [theme=dark] .colab-df-convert:hover {\n",
              "      background-color: #434B5C;\n",
              "      box-shadow: 0px 1px 3px 1px rgba(0, 0, 0, 0.15);\n",
              "      filter: drop-shadow(0px 1px 2px rgba(0, 0, 0, 0.3));\n",
              "      fill: #FFFFFF;\n",
              "    }\n",
              "  </style>\n",
              "\n",
              "      <script>\n",
              "        const buttonEl =\n",
              "          document.querySelector('#df-4a52d93a-b9c8-4b29-84bb-0557e0623da0 button.colab-df-convert');\n",
              "        buttonEl.style.display =\n",
              "          google.colab.kernel.accessAllowed ? 'block' : 'none';\n",
              "\n",
              "        async function convertToInteractive(key) {\n",
              "          const element = document.querySelector('#df-4a52d93a-b9c8-4b29-84bb-0557e0623da0');\n",
              "          const dataTable =\n",
              "            await google.colab.kernel.invokeFunction('convertToInteractive',\n",
              "                                                     [key], {});\n",
              "          if (!dataTable) return;\n",
              "\n",
              "          const docLinkHtml = 'Like what you see? Visit the ' +\n",
              "            '<a target=\"_blank\" href=https://colab.research.google.com/notebooks/data_table.ipynb>data table notebook</a>'\n",
              "            + ' to learn more about interactive tables.';\n",
              "          element.innerHTML = '';\n",
              "          dataTable['output_type'] = 'display_data';\n",
              "          await google.colab.output.renderOutput(dataTable, element);\n",
              "          const docLink = document.createElement('div');\n",
              "          docLink.innerHTML = docLinkHtml;\n",
              "          element.appendChild(docLink);\n",
              "        }\n",
              "      </script>\n",
              "    </div>\n",
              "  </div>\n",
              "  "
            ]
          },
          "metadata": {},
          "execution_count": 32
        }
      ]
    },
    {
      "cell_type": "markdown",
      "source": [
        "Висновок:\n",
        "Мінімальна середня квадратична помилка передбачення (RMSE) складає 0.533361 для моделі SVDpp Це свідчить про те, що модель має низьку помилку у передбаченні.\n",
        "\n",
        "Мінімальна середня абсолютна помилка передбачення (MAE)  становить 0.29382 для моделі NMF. Це свідчить про високу точність моделі у передбаченні.\n",
        "\n",
        "Мінімальний час навчання складає приблизно 0.105 секунди для моделі NMF, а час тестування - 0.016 секунди для моделі SVD.\n",
        "\n",
        "Отже, оптимальною для великих датасетів є модель SVD. Якщо потрібна точність - модель SVDpp"
      ],
      "metadata": {
        "id": "1NBNl7niC0Mi"
      }
    },
    {
      "cell_type": "code",
      "source": [
        "trainset, testset = train_test_split(data, test_size=0.25)\n",
        "for algorithm in algorithms:\n",
        "    algorithm.fit(trainset)\n",
        "    predictions = algorithm.test(testset)\n",
        "\n",
        "    print(algorithm, accuracy.rmse(predictions))"
      ],
      "metadata": {
        "colab": {
          "base_uri": "https://localhost:8080/"
        },
        "id": "sxrNmz-hGuao",
        "outputId": "1e3de48f-6473-4432-850e-a167d02a8a46"
      },
      "execution_count": 35,
      "outputs": [
        {
          "output_type": "stream",
          "name": "stdout",
          "text": [
            "RMSE: 0.5883\n",
            "<surprise.prediction_algorithms.matrix_factorization.SVD object at 0x7f3a652ad270> 0.5883302299845197\n",
            "RMSE: 0.5562\n",
            "<surprise.prediction_algorithms.matrix_factorization.SVDpp object at 0x7f3a652ad0c0> 0.5561967972172076\n",
            "RMSE: 0.5770\n",
            "<surprise.prediction_algorithms.matrix_factorization.NMF object at 0x7f3a652aee90> 0.5770067205253285\n"
          ]
        }
      ]
    },
    {
      "cell_type": "markdown",
      "source": [
        "# Друга частина\n",
        "Для більшого заглиблення в роботу алгоритму, пропонуємо реалізувати алгоритм колабораційної фільтрації з нуля. Для цього ми можемо скористатись нашою домашньою роботою з 3-ого модуля. Якщо ми модифікуємо функцію втрат та розрахунок градієнтів, то зможемо побудувати алгоритм матричної факторизації."
      ],
      "metadata": {
        "id": "qdyTJ8QdGkqI"
      }
    },
    {
      "cell_type": "code",
      "source": [
        "from scipy import optimize\n",
        "from scipy.io import loadmat"
      ],
      "metadata": {
        "id": "n7CmYb_DGspt"
      },
      "execution_count": 36,
      "outputs": []
    },
    {
      "cell_type": "code",
      "source": [
        "movie_ids = '/DataScience8/MyDrive/DataScience8/ml-latest-small/movie_ids.txt'\n",
        "movies_mat = '/DataScience8/MyDrive/DataScience8/ml-latest-small/movies.mat'"
      ],
      "metadata": {
        "id": "9lLBvUUcL20d"
      },
      "execution_count": 37,
      "outputs": []
    },
    {
      "cell_type": "code",
      "source": [
        "def normalizeRatings(Y, R):\n",
        "    m, n = Y.shape\n",
        "    Ymean = np.zeros(m)\n",
        "    Ynorm = np.zeros(Y.shape)\n",
        "\n",
        "    for i in range(m):\n",
        "        idx = R[i, :] == 1\n",
        "        Ymean[i] = np.mean(Y[i, idx])\n",
        "        Ynorm[i, idx] = Y[i, idx] - Ymean[i]\n",
        "\n",
        "    return Ynorm, Ymean\n",
        "\n",
        "\n",
        "def loadMovieList():\n",
        "    # Read the fixed movieulary list\n",
        "    with open(movie_ids,  encoding='ISO-8859-1') as fid:\n",
        "        movies = fid.readlines()\n",
        "\n",
        "    movieNames = []\n",
        "    for movie in movies:\n",
        "        parts = movie.split()\n",
        "        movieNames.append(' '.join(parts[1:]).strip())\n",
        "    return movieNames\n",
        "\n",
        "\n",
        "def computeNumericalGradient(J, theta, e=1e-4):\n",
        "    numgrad = np.zeros(theta.shape)\n",
        "    perturb = np.diag(e * np.ones(theta.shape))\n",
        "    for i in range(theta.size):\n",
        "        loss1, _ = J(theta - perturb[:, i])\n",
        "        loss2, _ = J(theta + perturb[:, i])\n",
        "        numgrad[i] = (loss2 - loss1)/(2*e)\n",
        "    return numgrad\n",
        "\n",
        "\n",
        "def checkCostFunction(cofiCostFunc, lambda_=0.):\n",
        "    # Create small problem\n",
        "    X_t = np.random.rand(4, 3)\n",
        "    Theta_t = np.random.rand(5, 3)\n",
        "\n",
        "    # Zap out most entries\n",
        "    Y = np.dot(X_t, Theta_t.T)\n",
        "    Y[np.random.rand(*Y.shape) > 0.5] = 0\n",
        "    R = np.zeros(Y.shape)\n",
        "    R[Y != 0] = 1\n",
        "\n",
        "    # Run Gradient Checking\n",
        "    X = np.random.randn(*X_t.shape)\n",
        "    Theta = np.random.randn(*Theta_t.shape)\n",
        "    num_movies, num_users = Y.shape\n",
        "    num_features = Theta_t.shape[1]\n",
        "\n",
        "    params = np.concatenate([X.ravel(), Theta.ravel()])\n",
        "    numgrad = computeNumericalGradient(\n",
        "        lambda x: cofiCostFunc(x, Y, R, num_users, num_movies, num_features, lambda_), params)\n",
        "\n",
        "    cost, grad = cofiCostFunc(params, Y, R, num_users,num_movies, num_features, lambda_)\n",
        "\n",
        "    print(np.stack([numgrad, grad], axis=1))\n",
        "    print('\\nThe above two columns you get should be very similar.'\n",
        "          '(Left-Your Numerical Gradient, Right-Analytical Gradient)')\n",
        "\n",
        "    diff = np.linalg.norm(numgrad-grad)/np.linalg.norm(numgrad+grad)\n",
        "    print('If your cost function implementation is correct, then '\n",
        "          'the relative difference will be small (less than 1e-9).')\n",
        "    print('\\nRelative Difference: %g' % diff)"
      ],
      "metadata": {
        "id": "8FnB7mw2MA_2"
      },
      "execution_count": 38,
      "outputs": []
    },
    {
      "cell_type": "code",
      "source": [
        "names = loadMovieList()\n",
        "len(names)"
      ],
      "metadata": {
        "colab": {
          "base_uri": "https://localhost:8080/"
        },
        "id": "KVgt3x6nMOl_",
        "outputId": "ba13a5a0-f4f4-43b1-99fc-6531de098577"
      },
      "execution_count": 39,
      "outputs": [
        {
          "output_type": "execute_result",
          "data": {
            "text/plain": [
              "1682"
            ]
          },
          "metadata": {},
          "execution_count": 39
        }
      ]
    },
    {
      "cell_type": "code",
      "source": [
        "data = loadmat(movies_mat)\n",
        "Y, R = data['Y'], data['R']\n",
        "\n",
        "print('Average rating for movie 1000 (',names[1000] ,'): %f / 5' %\n",
        "      np.mean(Y[180, R[1000, :]]))"
      ],
      "metadata": {
        "colab": {
          "base_uri": "https://localhost:8080/"
        },
        "id": "XLjylbnQMR5F",
        "outputId": "af60835f-1e1b-4d9c-a3c1-2f224c23bada"
      },
      "execution_count": 41,
      "outputs": [
        {
          "output_type": "stream",
          "name": "stdout",
          "text": [
            "Average rating for movie 1000 ( Stupids, The (1996) ): 4.909862 / 5\n"
          ]
        }
      ]
    },
    {
      "cell_type": "code",
      "source": [
        "def cofiCostFunc(params, Y, R, num_users, num_movies,\n",
        "                      num_features, lambda_=0.0):\n",
        "    # Unfold the U and W matrices from params\n",
        "    X = params[:num_movies*num_features].reshape(num_movies, num_features)\n",
        "    Theta = params[num_movies*num_features:].reshape(num_users, num_features)\n",
        "\n",
        "    # You need to return the following values correctly\n",
        "    J = 0\n",
        "    X_grad = np.zeros(X.shape)\n",
        "    Theta_grad = np.zeros(Theta.shape)\n",
        "\n",
        "    J = (1 / 2) * np.sum(np.square((X.dot(Theta.T) - Y) * R)) + (lambda_ / 2) * np.sum(np.square(X)) + \\\n",
        "                                                                (lambda_ / 2) * np.sum(np.square(Theta))\n",
        "\n",
        "    for i in range(R.shape[0]):\n",
        "\n",
        "        idx = np.where(R[i, :] == 1)[0]\n",
        "        Theta_temp = Theta[idx, :]\n",
        "        Y_temp = Y[i, idx]\n",
        "        X_grad[i, :] = np.dot(np.dot(X[i, :], Theta_temp.T) - Y_temp, Theta_temp) + lambda_ * X[i, :]\n",
        "\n",
        "    for j in range(R.shape[1]):\n",
        "\n",
        "        idx = np.where(R[:, j] == 1)[0]\n",
        "        X_temp = X[idx, :]\n",
        "        Y_temp = Y[idx, j]\n",
        "        Theta_grad[j, :] = np.dot(np.dot(X_temp, Theta[j, :]) - Y_temp, X_temp) + lambda_ * Theta[j, :]\n",
        "\n",
        "    grad = np.concatenate([X_grad.ravel(), Theta_grad.ravel()])\n",
        "    return J, grad"
      ],
      "metadata": {
        "id": "j2HjtaJQMc0q"
      },
      "execution_count": 42,
      "outputs": []
    },
    {
      "cell_type": "code",
      "source": [
        "checkCostFunction(cofiCostFunc, 1.5)"
      ],
      "metadata": {
        "colab": {
          "base_uri": "https://localhost:8080/"
        },
        "id": "uHX_7PqpMlac",
        "outputId": "e258f320-46ea-4d6e-8bbf-d7a0c6a1c552"
      },
      "execution_count": 43,
      "outputs": [
        {
          "output_type": "stream",
          "name": "stdout",
          "text": [
            "[[  8.25769069   8.25769069]\n",
            " [  2.20585765   2.20585765]\n",
            " [  2.58723598   2.58723598]\n",
            " [ 10.33266254  10.33266254]\n",
            " [ 15.98458484  15.98458484]\n",
            " [-22.83304154 -22.83304154]\n",
            " [  3.20343957   3.20343957]\n",
            " [  2.73941409   2.73941409]\n",
            " [  4.011        4.011     ]\n",
            " [  3.42518653   3.42518653]\n",
            " [ -8.83198215  -8.83198215]\n",
            " [ 14.69155982  14.69155982]\n",
            " [  5.32800546   5.32800546]\n",
            " [ -0.81523775  -0.81523775]\n",
            " [  1.12354476   1.12354476]\n",
            " [  0.60598562   0.60598562]\n",
            " [  1.51176171   1.51176171]\n",
            " [ -4.07899828  -4.07899828]\n",
            " [  6.03862074   6.03862074]\n",
            " [ 11.48226996  11.48226996]\n",
            " [-18.00920929 -18.00920929]\n",
            " [ -8.81090931  -8.81090931]\n",
            " [ -7.37787716  -7.37787716]\n",
            " [  8.71234347   8.71234347]\n",
            " [-14.3318822  -14.3318822 ]\n",
            " [ -8.78981177  -8.78981177]\n",
            " [ -6.04365208  -6.04365208]]\n",
            "\n",
            "The above two columns you get should be very similar.(Left-Your Numerical Gradient, Right-Analytical Gradient)\n",
            "If your cost function implementation is correct, then the relative difference will be small (less than 1e-9).\n",
            "\n",
            "Relative Difference: 2.25088e-12\n"
          ]
        }
      ]
    },
    {
      "cell_type": "code",
      "source": [
        "movieList = loadMovieList()\n",
        "\n",
        "#  Before we will train the collaborative filtering model, we will first\n",
        "#  add ratings that correspond to a new user that we just observed. This\n",
        "#  part of the code will also allow you to put in your own ratings for the\n",
        "#  movies in our dataset!\n",
        "n_m = len(movieList)\n",
        "#  Initialize my ratings\n",
        "my_ratings = np.zeros(n_m)\n",
        "# We have selected a few movies we liked / did not like and the ratings we\n",
        "# gave are as follows:\n",
        "my_ratings[2] = 5\n",
        "my_ratings[77] = 4\n",
        "my_ratings[50] = 5\n",
        "my_ratings[59]= 0\n",
        "my_ratings[67] = 5\n",
        "my_ratings[63] = 5\n",
        "my_ratings[145] = 5\n",
        "my_ratings[190] = 2\n",
        "my_ratings[182] = 4\n",
        "my_ratings[225] = 3\n",
        "my_ratings[283] = 1\n",
        "my_ratings[394] = 3\n",
        "my_ratings[479] = 1\n",
        "my_ratings[647] = 3"
      ],
      "metadata": {
        "id": "q_eIDF93Mzp7"
      },
      "execution_count": 47,
      "outputs": []
    },
    {
      "cell_type": "code",
      "source": [
        "#  Add our own ratings to the data matrix\n",
        "Y = np.hstack([my_ratings[:, None], Y])\n",
        "R = np.hstack([(my_ratings > 0)[:, None], R])\n",
        "\n",
        "#  Normalize Ratings\n",
        "Ynorm, Ymean = normalizeRatings(Y, R)\n",
        "\n",
        "#  Useful Values\n",
        "num_movies, num_users = Y.shape\n",
        "num_features = 7\n",
        "\n",
        "# Set Initial Parameters (Theta, X)\n",
        "X = np.random.randn(num_movies, num_features)\n",
        "Theta = np.random.randn(num_users, num_features)\n",
        "\n",
        "initial_parameters = np.concatenate([X.ravel(), Theta.ravel()])\n",
        "\n",
        "# Set options for scipy.optimize.minimize\n",
        "options = {'maxiter': 100}\n",
        "\n",
        "# Set Regularization\n",
        "lambda_ = 10\n",
        "res = optimize.minimize(lambda x: cofiCostFunc(x, Ynorm, R, num_users,\n",
        "                                               num_movies, num_features, lambda_),\n",
        "                        initial_parameters,\n",
        "                        method='TNC',\n",
        "                        jac=True,\n",
        "                        options=options)\n",
        "theta = res.x\n",
        "\n",
        "# Unfold the returned theta back into U and W\n",
        "X = theta[:num_movies*num_features].reshape(num_movies, num_features)\n",
        "Theta = theta[num_movies*num_features:].reshape(num_users, num_features)"
      ],
      "metadata": {
        "colab": {
          "base_uri": "https://localhost:8080/"
        },
        "id": "HXo4kloJM0vk",
        "outputId": "6707f0d9-e53b-427b-a061-8a8ec5fc886a"
      },
      "execution_count": 48,
      "outputs": [
        {
          "output_type": "stream",
          "name": "stderr",
          "text": [
            "<ipython-input-48-74526c60ba28>:23: DeprecationWarning: 'maxiter' has been deprecated in favor of 'maxfun' and will be removed in SciPy 1.11.0.\n",
            "  res = optimize.minimize(lambda x: cofiCostFunc(x, Ynorm, R, num_users,\n"
          ]
        }
      ]
    },
    {
      "cell_type": "code",
      "source": [
        "# Make recommendations by computing the predictions matrix\n",
        "p = np.dot(X, Theta.T)\n",
        "my_predictions = p[:, 0] + Ymean\n",
        "\n",
        "movieList = loadMovieList()\n",
        "\n",
        "ix = np.argsort(my_predictions)[::-1]\n",
        "\n",
        "print('Top recommendations for you:')\n",
        "print('----------------------------')\n",
        "for i in range(15):\n",
        "    j = ix[i]\n",
        "    print('Predicting rating %.1f for movie %s' % (my_predictions[j], movieList[j]))\n",
        "\n",
        "print('\\nOriginal ratings provided:')\n",
        "print('--------------------------')\n",
        "for i in range(len(my_ratings)):\n",
        "    if my_ratings[i] > 0:\n",
        "        print('Rated %d for %s' % (my_ratings[i], movieList[i]))"
      ],
      "metadata": {
        "colab": {
          "base_uri": "https://localhost:8080/"
        },
        "id": "XiYZm8GsNCHG",
        "outputId": "bfe4c05d-6227-44cd-b488-4c7a648eb709"
      },
      "execution_count": 49,
      "outputs": [
        {
          "output_type": "stream",
          "name": "stdout",
          "text": [
            "Top recommendations for you:\n",
            "----------------------------\n",
            "Predicting rating 5.0 for movie Saint of Fort Washington, The (1993)\n",
            "Predicting rating 5.0 for movie Entertaining Angels: The Dorothy Day Story (1996)\n",
            "Predicting rating 5.0 for movie Aiqing wansui (1994)\n",
            "Predicting rating 5.0 for movie Marlene Dietrich: Shadow and Light (1996)\n",
            "Predicting rating 5.0 for movie Santa with Muscles (1996)\n",
            "Predicting rating 5.0 for movie They Made Me a Criminal (1939)\n",
            "Predicting rating 5.0 for movie Prefontaine (1997)\n",
            "Predicting rating 5.0 for movie Star Kid (1997)\n",
            "Predicting rating 5.0 for movie Great Day in Harlem, A (1994)\n",
            "Predicting rating 5.0 for movie Someone Else's America (1995)\n",
            "Predicting rating 4.6 for movie Pather Panchali (1955)\n",
            "Predicting rating 4.6 for movie Close Shave, A (1995)\n",
            "Predicting rating 4.5 for movie Wrong Trousers, The (1993)\n",
            "Predicting rating 4.5 for movie Some Mother's Son (1996)\n",
            "Predicting rating 4.5 for movie Maya Lin: A Strong Clear Vision (1994)\n",
            "\n",
            "Original ratings provided:\n",
            "--------------------------\n",
            "Rated 5 for Four Rooms (1995)\n",
            "Rated 5 for Legends of the Fall (1994)\n",
            "Rated 5 for Shawshank Redemption, The (1994)\n",
            "Rated 5 for Crow, The (1994)\n",
            "Rated 4 for Free Willy (1993)\n",
            "Rated 5 for Unhook the Stars (1996)\n",
            "Rated 4 for Alien (1979)\n",
            "Rated 2 for Amadeus (1984)\n",
            "Rated 3 for Die Hard 2 (1990)\n",
            "Rated 1 for Tin Cup (1996)\n",
            "Rated 3 for Robin Hood: Men in Tights (1993)\n",
            "Rated 1 for North by Northwest (1959)\n",
            "Rated 3 for Quiet Man, The (1952)\n"
          ]
        }
      ]
    }
  ]
}