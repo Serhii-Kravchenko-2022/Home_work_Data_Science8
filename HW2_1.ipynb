{
  "nbformat": 4,
  "nbformat_minor": 0,
  "metadata": {
    "colab": {
      "provenance": [],
      "authorship_tag": "ABX9TyOyimDgs/i44lvQNttbrJzZ",
      "include_colab_link": true
    },
    "kernelspec": {
      "name": "python3",
      "display_name": "Python 3"
    },
    "language_info": {
      "name": "python"
    }
  },
  "cells": [
    {
      "cell_type": "markdown",
      "metadata": {
        "id": "view-in-github",
        "colab_type": "text"
      },
      "source": [
        "<a href=\"https://colab.research.google.com/github/Serhii-Kravchenko-2022/Home_work_Data_Science8/blob/main/HW2_1.ipynb\" target=\"_parent\"><img src=\"https://colab.research.google.com/assets/colab-badge.svg\" alt=\"Open In Colab\"/></a>"
      ]
    },
    {
      "cell_type": "markdown",
      "source": [
        "Прочитайте дані за допомогою методу read_html з таблиці \"Коефіцієнт народжуваності в регіонах України (1950—2019)\""
      ],
      "metadata": {
        "id": "9uKXMT_tYs6d"
      }
    },
    {
      "cell_type": "code",
      "source": [
        "import pandas as pd\n",
        "import numpy as np\n",
        "import urllib.parse\n",
        "\n",
        "\n",
        "url = 'https://uk.wikipedia.org/wiki/Населення_України'\n",
        "parsed_url = urllib.parse.quote(url, safe=':/')\n",
        "tables = pd.read_html(parsed_url)\n",
        "df = pd.DataFrame(tables[12])\n",
        "print(df)"
      ],
      "metadata": {
        "colab": {
          "base_uri": "https://localhost:8080/"
        },
        "id": "j5lu558SYvl9",
        "outputId": "c7e6aca9-3116-4922-dfe2-57b880e033d2"
      },
      "execution_count": 50,
      "outputs": [
        {
          "output_type": "stream",
          "name": "stdout",
          "text": [
            "               Регіон   1950   1960   1970  1990  2000  2012 2014 2019\n",
            "0                Крим  230.0  206.0  160.0   130    73   126    —    —\n",
            "1           Вінницька  224.0  192.0  142.0   124    84   112  109   76\n",
            "2           Волинська  247.0  250.0  179.0   153   112   148  141  101\n",
            "3    Дніпропетровська  204.0  204.0  151.0   123    71   112  111   71\n",
            "4            Донецька  271.0  214.0  140.0   109    61    98   82    —\n",
            "5         Житомирська  261.0  223.0  159.0   129    89   122  120   79\n",
            "6        Закарпатська  314.0  273.0  207.0   168   115   151  146  104\n",
            "7          Запорізька  219.0  197.0  150.0   124    71   106  106   68\n",
            "8   Івано-Франківська  243.0  248.0  182.0   155   103   124  122   88\n",
            "9            Київська  204.0  189.0  156.0   123    73   122  121   80\n",
            "10     Кіровоградська  216.0  171.0  145.0   126    79   110  108   68\n",
            "11          Луганська  262.0  235.0  144.0   116    62    96   51    —\n",
            "12          Львівська  234.0  240.0  171.0   140    91   119  119   87\n",
            "13       Миколаївська  211.0  194.0  155.0   137    80   115  112   71\n",
            "14            Одеська  241.0  192.0  148.0   126    80   127  123   88\n",
            "15         Полтавська  186.0  163.0  131.0   118    70    99  100   65\n",
            "16         Рівненська  269.0  267.0  193.0   158   118   159  148  107\n",
            "17            Сумська  216.0  184.0  132.0   115    70    97   92   60\n",
            "18      Тернопільська  213.0  216.0  157.0   142    92   113  109   76\n",
            "19         Харківська  197.0  173.0  140.0   114    68    99  101   68\n",
            "20         Херсонська  208.0  214.0  166.0   143    85   117  115   81\n",
            "21        Хмельницька  234.0  198.0  148.0   129    85   113  112   79\n",
            "22          Черкаська  205.0  179.0  144.0   123    75   100   98   64\n",
            "23        Чернівецька  247.0  218.0  170.0   148   101   128  129   92\n",
            "24       Чернігівська  220.0  183.0  127.0   108    69    94   90   61\n",
            "25               Київ    NaN  174.0  159.0   120    73   120  121  110\n",
            "26        Севастополь    NaN    NaN    NaN   125    70   120    —    —\n",
            "27            Україна  228.0  205.0  152.0   126    78   114  111   81\n"
          ]
        }
      ]
    },
    {
      "cell_type": "markdown",
      "source": [
        "1. Вивести перші рядки таблиці за допомогою методу head"
      ],
      "metadata": {
        "id": "znznpmFecjlr"
      }
    },
    {
      "cell_type": "code",
      "source": [
        "print(df.head())"
      ],
      "metadata": {
        "colab": {
          "base_uri": "https://localhost:8080/"
        },
        "id": "3MVEQobPcpRG",
        "outputId": "f1b03596-b956-4691-f92c-a9fb847061ce"
      },
      "execution_count": 51,
      "outputs": [
        {
          "output_type": "stream",
          "name": "stdout",
          "text": [
            "             Регіон   1950   1960   1970  1990  2000  2012 2014 2019\n",
            "0              Крим  230.0  206.0  160.0   130    73   126    —    —\n",
            "1         Вінницька  224.0  192.0  142.0   124    84   112  109   76\n",
            "2         Волинська  247.0  250.0  179.0   153   112   148  141  101\n",
            "3  Дніпропетровська  204.0  204.0  151.0   123    71   112  111   71\n",
            "4          Донецька  271.0  214.0  140.0   109    61    98   82    —\n"
          ]
        }
      ]
    },
    {
      "cell_type": "markdown",
      "source": [
        "2. Визначте кількість рядків та стовпців у датафреймі (атрибут shape)"
      ],
      "metadata": {
        "id": "CStGWHwldKCL"
      }
    },
    {
      "cell_type": "code",
      "source": [
        "print(df.shape)"
      ],
      "metadata": {
        "colab": {
          "base_uri": "https://localhost:8080/"
        },
        "id": "b2x7GuB6dLt1",
        "outputId": "79499197-6a10-4c40-efab-f7120e18570b"
      },
      "execution_count": 52,
      "outputs": [
        {
          "output_type": "stream",
          "name": "stdout",
          "text": [
            "(28, 9)\n"
          ]
        }
      ]
    },
    {
      "cell_type": "markdown",
      "source": [
        "3. Замініть у таблиці значення \"—\" на значення NaN"
      ],
      "metadata": {
        "id": "WdHf7nIXds-V"
      }
    },
    {
      "cell_type": "code",
      "source": [
        "df.replace(\"—\", np.nan, inplace=True)\n",
        "print(df)"
      ],
      "metadata": {
        "colab": {
          "base_uri": "https://localhost:8080/"
        },
        "id": "eIYEHeLHdvAR",
        "outputId": "a052e6a5-9b5c-44cd-8684-e861ea5c9173"
      },
      "execution_count": 53,
      "outputs": [
        {
          "output_type": "stream",
          "name": "stdout",
          "text": [
            "               Регіон   1950   1960   1970  1990  2000  2012 2014 2019\n",
            "0                Крим  230.0  206.0  160.0   130    73   126  NaN  NaN\n",
            "1           Вінницька  224.0  192.0  142.0   124    84   112  109   76\n",
            "2           Волинська  247.0  250.0  179.0   153   112   148  141  101\n",
            "3    Дніпропетровська  204.0  204.0  151.0   123    71   112  111   71\n",
            "4            Донецька  271.0  214.0  140.0   109    61    98   82  NaN\n",
            "5         Житомирська  261.0  223.0  159.0   129    89   122  120   79\n",
            "6        Закарпатська  314.0  273.0  207.0   168   115   151  146  104\n",
            "7          Запорізька  219.0  197.0  150.0   124    71   106  106   68\n",
            "8   Івано-Франківська  243.0  248.0  182.0   155   103   124  122   88\n",
            "9            Київська  204.0  189.0  156.0   123    73   122  121   80\n",
            "10     Кіровоградська  216.0  171.0  145.0   126    79   110  108   68\n",
            "11          Луганська  262.0  235.0  144.0   116    62    96   51  NaN\n",
            "12          Львівська  234.0  240.0  171.0   140    91   119  119   87\n",
            "13       Миколаївська  211.0  194.0  155.0   137    80   115  112   71\n",
            "14            Одеська  241.0  192.0  148.0   126    80   127  123   88\n",
            "15         Полтавська  186.0  163.0  131.0   118    70    99  100   65\n",
            "16         Рівненська  269.0  267.0  193.0   158   118   159  148  107\n",
            "17            Сумська  216.0  184.0  132.0   115    70    97   92   60\n",
            "18      Тернопільська  213.0  216.0  157.0   142    92   113  109   76\n",
            "19         Харківська  197.0  173.0  140.0   114    68    99  101   68\n",
            "20         Херсонська  208.0  214.0  166.0   143    85   117  115   81\n",
            "21        Хмельницька  234.0  198.0  148.0   129    85   113  112   79\n",
            "22          Черкаська  205.0  179.0  144.0   123    75   100   98   64\n",
            "23        Чернівецька  247.0  218.0  170.0   148   101   128  129   92\n",
            "24       Чернігівська  220.0  183.0  127.0   108    69    94   90   61\n",
            "25               Київ    NaN  174.0  159.0   120    73   120  121  110\n",
            "26        Севастополь    NaN    NaN    NaN   125    70   120  NaN  NaN\n",
            "27            Україна  228.0  205.0  152.0   126    78   114  111   81\n"
          ]
        }
      ]
    },
    {
      "cell_type": "markdown",
      "source": [
        "4. Визначте типи всіх стовпців за допомогою dataframe.dtypes"
      ],
      "metadata": {
        "id": "YuiCSfVTf_mS"
      }
    },
    {
      "cell_type": "code",
      "source": [
        "print(df.dtypes)"
      ],
      "metadata": {
        "colab": {
          "base_uri": "https://localhost:8080/"
        },
        "id": "cWbmHL1SgCVW",
        "outputId": "c465ed04-4e5a-43f7-a151-7c75a94e9c13"
      },
      "execution_count": 54,
      "outputs": [
        {
          "output_type": "stream",
          "name": "stdout",
          "text": [
            "Регіон     object\n",
            "1950      float64\n",
            "1960      float64\n",
            "1970      float64\n",
            "1990        int64\n",
            "2000        int64\n",
            "2012        int64\n",
            "2014       object\n",
            "2019       object\n",
            "dtype: object\n"
          ]
        }
      ]
    },
    {
      "cell_type": "markdown",
      "source": [
        "5. Замініть типи нечислових колонок на числові. Підказка - це колонки, де знаходився символ \"—\""
      ],
      "metadata": {
        "id": "SbJYOjZ_gm8b"
      }
    },
    {
      "cell_type": "code",
      "source": [
        "df['2014'] = df['2014'].astype(float)\n",
        "df['2019'] = df['2019'].astype(float)\n",
        "print(df.dtypes)"
      ],
      "metadata": {
        "colab": {
          "base_uri": "https://localhost:8080/"
        },
        "id": "RXGlw756gos1",
        "outputId": "00e4716e-4221-4dec-fa2d-331dad71e3c8"
      },
      "execution_count": 55,
      "outputs": [
        {
          "output_type": "stream",
          "name": "stdout",
          "text": [
            "Регіон     object\n",
            "1950      float64\n",
            "1960      float64\n",
            "1970      float64\n",
            "1990        int64\n",
            "2000        int64\n",
            "2012        int64\n",
            "2014      float64\n",
            "2019      float64\n",
            "dtype: object\n"
          ]
        }
      ]
    },
    {
      "cell_type": "markdown",
      "source": [
        "6. Порахуйте, яка частка пропусків міститься в кожній колонці (використовуйте методи isnull та sum)"
      ],
      "metadata": {
        "id": "Im_8-Pwiqu9E"
      }
    },
    {
      "cell_type": "code",
      "source": [
        "for column in df.columns:\n",
        "    missing = df[column].isnull().sum()\n",
        "    total = df[column].shape[0]\n",
        "    missing_ratio = missing / total\n",
        "    print(f'{column}: {missing_ratio:.2%}')"
      ],
      "metadata": {
        "colab": {
          "base_uri": "https://localhost:8080/"
        },
        "id": "sv1yck9gsPmb",
        "outputId": "8a9117b6-cbab-4071-c2ac-4523d432a55b"
      },
      "execution_count": 56,
      "outputs": [
        {
          "output_type": "stream",
          "name": "stdout",
          "text": [
            "Регіон: 0.00%\n",
            "1950: 7.14%\n",
            "1960: 3.57%\n",
            "1970: 3.57%\n",
            "1990: 0.00%\n",
            "2000: 0.00%\n",
            "2012: 0.00%\n",
            "2014: 7.14%\n",
            "2019: 14.29%\n"
          ]
        }
      ]
    },
    {
      "cell_type": "markdown",
      "source": [
        "7. Видаліть з таблиці дані по всій країні, останній рядок таблиці"
      ],
      "metadata": {
        "id": "giDLXYowwous"
      }
    },
    {
      "cell_type": "code",
      "source": [
        "df = df.drop(index=df.index[-1])\n",
        "print(df)"
      ],
      "metadata": {
        "colab": {
          "base_uri": "https://localhost:8080/"
        },
        "id": "BYY_HHjpwzxO",
        "outputId": "0776ba61-b667-4c9a-87c9-47d65875537b"
      },
      "execution_count": 57,
      "outputs": [
        {
          "output_type": "stream",
          "name": "stdout",
          "text": [
            "               Регіон   1950   1960   1970  1990  2000  2012   2014   2019\n",
            "0                Крим  230.0  206.0  160.0   130    73   126    NaN    NaN\n",
            "1           Вінницька  224.0  192.0  142.0   124    84   112  109.0   76.0\n",
            "2           Волинська  247.0  250.0  179.0   153   112   148  141.0  101.0\n",
            "3    Дніпропетровська  204.0  204.0  151.0   123    71   112  111.0   71.0\n",
            "4            Донецька  271.0  214.0  140.0   109    61    98   82.0    NaN\n",
            "5         Житомирська  261.0  223.0  159.0   129    89   122  120.0   79.0\n",
            "6        Закарпатська  314.0  273.0  207.0   168   115   151  146.0  104.0\n",
            "7          Запорізька  219.0  197.0  150.0   124    71   106  106.0   68.0\n",
            "8   Івано-Франківська  243.0  248.0  182.0   155   103   124  122.0   88.0\n",
            "9            Київська  204.0  189.0  156.0   123    73   122  121.0   80.0\n",
            "10     Кіровоградська  216.0  171.0  145.0   126    79   110  108.0   68.0\n",
            "11          Луганська  262.0  235.0  144.0   116    62    96   51.0    NaN\n",
            "12          Львівська  234.0  240.0  171.0   140    91   119  119.0   87.0\n",
            "13       Миколаївська  211.0  194.0  155.0   137    80   115  112.0   71.0\n",
            "14            Одеська  241.0  192.0  148.0   126    80   127  123.0   88.0\n",
            "15         Полтавська  186.0  163.0  131.0   118    70    99  100.0   65.0\n",
            "16         Рівненська  269.0  267.0  193.0   158   118   159  148.0  107.0\n",
            "17            Сумська  216.0  184.0  132.0   115    70    97   92.0   60.0\n",
            "18      Тернопільська  213.0  216.0  157.0   142    92   113  109.0   76.0\n",
            "19         Харківська  197.0  173.0  140.0   114    68    99  101.0   68.0\n",
            "20         Херсонська  208.0  214.0  166.0   143    85   117  115.0   81.0\n",
            "21        Хмельницька  234.0  198.0  148.0   129    85   113  112.0   79.0\n",
            "22          Черкаська  205.0  179.0  144.0   123    75   100   98.0   64.0\n",
            "23        Чернівецька  247.0  218.0  170.0   148   101   128  129.0   92.0\n",
            "24       Чернігівська  220.0  183.0  127.0   108    69    94   90.0   61.0\n",
            "25               Київ    NaN  174.0  159.0   120    73   120  121.0  110.0\n",
            "26        Севастополь    NaN    NaN    NaN   125    70   120    NaN    NaN\n"
          ]
        }
      ]
    },
    {
      "cell_type": "markdown",
      "source": [
        "8. Замініть відсутні дані в стовпцях середніми значеннями цих стовпців (метод fillna)"
      ],
      "metadata": {
        "id": "1ACXAp76xMee"
      }
    },
    {
      "cell_type": "code",
      "source": [
        "df.fillna(df.mean(numeric_only=True), inplace=True)\n",
        "print(df)"
      ],
      "metadata": {
        "colab": {
          "base_uri": "https://localhost:8080/"
        },
        "id": "lyGTZixfxVUG",
        "outputId": "fe264328-1dc6-4e56-8d87-02b932b78c58"
      },
      "execution_count": 59,
      "outputs": [
        {
          "output_type": "stream",
          "name": "stdout",
          "text": [
            "               Регіон    1950        1960   1970  1990  2000  2012    2014  \\\n",
            "0                Крим  230.00  206.000000  160.0   130    73   126  111.44   \n",
            "1           Вінницька  224.00  192.000000  142.0   124    84   112  109.00   \n",
            "2           Волинська  247.00  250.000000  179.0   153   112   148  141.00   \n",
            "3    Дніпропетровська  204.00  204.000000  151.0   123    71   112  111.00   \n",
            "4            Донецька  271.00  214.000000  140.0   109    61    98   82.00   \n",
            "5         Житомирська  261.00  223.000000  159.0   129    89   122  120.00   \n",
            "6        Закарпатська  314.00  273.000000  207.0   168   115   151  146.00   \n",
            "7          Запорізька  219.00  197.000000  150.0   124    71   106  106.00   \n",
            "8   Івано-Франківська  243.00  248.000000  182.0   155   103   124  122.00   \n",
            "9            Київська  204.00  189.000000  156.0   123    73   122  121.00   \n",
            "10     Кіровоградська  216.00  171.000000  145.0   126    79   110  108.00   \n",
            "11          Луганська  262.00  235.000000  144.0   116    62    96   51.00   \n",
            "12          Львівська  234.00  240.000000  171.0   140    91   119  119.00   \n",
            "13       Миколаївська  211.00  194.000000  155.0   137    80   115  112.00   \n",
            "14            Одеська  241.00  192.000000  148.0   126    80   127  123.00   \n",
            "15         Полтавська  186.00  163.000000  131.0   118    70    99  100.00   \n",
            "16         Рівненська  269.00  267.000000  193.0   158   118   159  148.00   \n",
            "17            Сумська  216.00  184.000000  132.0   115    70    97   92.00   \n",
            "18      Тернопільська  213.00  216.000000  157.0   142    92   113  109.00   \n",
            "19         Харківська  197.00  173.000000  140.0   114    68    99  101.00   \n",
            "20         Херсонська  208.00  214.000000  166.0   143    85   117  115.00   \n",
            "21        Хмельницька  234.00  198.000000  148.0   129    85   113  112.00   \n",
            "22          Черкаська  205.00  179.000000  144.0   123    75   100   98.00   \n",
            "23        Чернівецька  247.00  218.000000  170.0   148   101   128  129.00   \n",
            "24       Чернігівська  220.00  183.000000  127.0   108    69    94   90.00   \n",
            "25               Київ  231.04  174.000000  159.0   120    73   120  121.00   \n",
            "26        Севастополь  231.04  207.576923  156.0   125    70   120  111.44   \n",
            "\n",
            "          2019  \n",
            "0    80.173913  \n",
            "1    76.000000  \n",
            "2   101.000000  \n",
            "3    71.000000  \n",
            "4    80.173913  \n",
            "5    79.000000  \n",
            "6   104.000000  \n",
            "7    68.000000  \n",
            "8    88.000000  \n",
            "9    80.000000  \n",
            "10   68.000000  \n",
            "11   80.173913  \n",
            "12   87.000000  \n",
            "13   71.000000  \n",
            "14   88.000000  \n",
            "15   65.000000  \n",
            "16  107.000000  \n",
            "17   60.000000  \n",
            "18   76.000000  \n",
            "19   68.000000  \n",
            "20   81.000000  \n",
            "21   79.000000  \n",
            "22   64.000000  \n",
            "23   92.000000  \n",
            "24   61.000000  \n",
            "25  110.000000  \n",
            "26   80.173913  \n"
          ]
        }
      ]
    },
    {
      "cell_type": "markdown",
      "source": [
        "9. Отримайте список регіонів, де рівень народжуваності у 2019 році був вищим за середній по Україні\n"
      ],
      "metadata": {
        "id": "TDQxocgOyHsL"
      }
    },
    {
      "cell_type": "code",
      "source": [
        "region_birth_rate_higher_than_average = df[df['2019'] > df['2019'].mean()][['Регіон', '2019']]\n",
        "print(region_birth_rate_higher_than_average)"
      ],
      "metadata": {
        "colab": {
          "base_uri": "https://localhost:8080/"
        },
        "id": "W4qFVoYry8HW",
        "outputId": "e45fc6d9-83fb-4dbd-bd25-4b41a9f0bd28"
      },
      "execution_count": 65,
      "outputs": [
        {
          "output_type": "stream",
          "name": "stdout",
          "text": [
            "               Регіон   2019\n",
            "2           Волинська  101.0\n",
            "6        Закарпатська  104.0\n",
            "8   Івано-Франківська   88.0\n",
            "12          Львівська   87.0\n",
            "14            Одеська   88.0\n",
            "16         Рівненська  107.0\n",
            "20         Херсонська   81.0\n",
            "23        Чернівецька   92.0\n",
            "25               Київ  110.0\n"
          ]
        }
      ]
    },
    {
      "cell_type": "markdown",
      "source": [
        "10. У якому регіоні була найвища народжуваність у 2014 році?"
      ],
      "metadata": {
        "id": "VOqQb_kB0lyq"
      }
    },
    {
      "cell_type": "code",
      "source": [
        "region_with_highest_birth_rate = df.sort_values(by='2014', ascending=False).iloc[0]['Регіон']\n",
        "print(region_with_highest_birth_rate)"
      ],
      "metadata": {
        "colab": {
          "base_uri": "https://localhost:8080/"
        },
        "id": "FviZaEdw0omf",
        "outputId": "374ab0b9-0aa1-4c8a-8635-ee6289d0bab1"
      },
      "execution_count": 64,
      "outputs": [
        {
          "output_type": "stream",
          "name": "stdout",
          "text": [
            "Рівненська\n"
          ]
        }
      ]
    },
    {
      "cell_type": "markdown",
      "source": [
        "11. Побудуйте стовпчикову діаграму народжуваності по регіонах у 2019 році"
      ],
      "metadata": {
        "id": "g5t1SHXc1bU2"
      }
    },
    {
      "cell_type": "code",
      "source": [
        "import matplotlib.pyplot as plt\n",
        "\n",
        "df.plot(x='Регіон', y='2019', kind='bar', figsize=(10, 5))\n",
        "plt.xlabel('Регіон')\n",
        "plt.ylabel('Кількість народжень')\n",
        "plt.title('Народжуваність по регіонах в 2019 році')\n",
        "plt.show()"
      ],
      "metadata": {
        "colab": {
          "base_uri": "https://localhost:8080/",
          "height": 608
        },
        "id": "D0wYMmzV2AO_",
        "outputId": "56e84300-d161-4277-e256-c353785c17d5"
      },
      "execution_count": 67,
      "outputs": [
        {
          "output_type": "display_data",
          "data": {
            "text/plain": [
              "<Figure size 1000x500 with 1 Axes>"
            ],
            "image/png": "[encoded data removed]"
          },
          "metadata": {}
        }
      ]
    }
  ]
}