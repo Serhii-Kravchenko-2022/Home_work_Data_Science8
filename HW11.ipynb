{
  "nbformat": 4,
  "nbformat_minor": 0,
  "metadata": {
    "colab": {
      "provenance": [],
      "authorship_tag": "ABX9TyOYjAXE9irMSsNdBIwDYAq5",
      "include_colab_link": true
    },
    "kernelspec": {
      "name": "python3",
      "display_name": "Python 3"
    },
    "language_info": {
      "name": "python"
    }
  },
  "cells": [
    {
      "cell_type": "markdown",
      "metadata": {
        "id": "view-in-github",
        "colab_type": "text"
      },
      "source": [
        "<a href=\"https://colab.research.google.com/github/Serhii-Kravchenko-2022/Home_work_Data_Science8/blob/main/HW11.ipynb\" target=\"_parent\"><img src=\"https://colab.research.google.com/assets/colab-badge.svg\" alt=\"Open In Colab\"/></a>"
      ]
    },
    {
      "cell_type": "markdown",
      "source": [
        "# Home work 11 by\n",
        "# Kravchenko Serhii\n",
        "\n",
        "Recurrent neural networks RNN\n",
        "\n",
        "RNN with GRU, LSTM\n",
        "\n",
        "Bidirectional RNN\n",
        "\n",
        "Deep RNN"
      ],
      "metadata": {
        "id": "qoJTG9l5wHvP"
      }
    },
    {
      "cell_type": "code",
      "source": [
        "from keras.utils.data_utils import pad_sequences\n",
        "from keras.models import Sequential\n",
        "from keras.layers import Dense, Dropout, Embedding, SimpleRNN, LSTM, Bidirectional\n",
        "from keras.datasets import imdb\n",
        "import numpy as np\n",
        "import pandas as pd\n",
        "import matplotlib.pyplot as plt"
      ],
      "metadata": {
        "id": "rTIi7OLFwwwW"
      },
      "execution_count": 1,
      "outputs": []
    },
    {
      "cell_type": "code",
      "source": [
        "max_features = 10000  # кількість слів, що розглядаються як особливості\n",
        "maxlen = 500  # обмеження кількості слів в тексті"
      ],
      "metadata": {
        "id": "vOF0XLplw6WM"
      },
      "execution_count": 2,
      "outputs": []
    },
    {
      "cell_type": "code",
      "source": [
        "(X_train, y_train), (X_test, y_test) = imdb.load_data(num_words=max_features)"
      ],
      "metadata": {
        "colab": {
          "base_uri": "https://localhost:8080/"
        },
        "id": "lTIGMszEwxV-",
        "outputId": "8bf092a4-9c99-4de5-dfc7-66889a2b5fb6"
      },
      "execution_count": 3,
      "outputs": [
        {
          "output_type": "stream",
          "name": "stdout",
          "text": [
            "Downloading data from https://storage.googleapis.com/tensorflow/tf-keras-datasets/imdb.npz\n",
            "17464789/17464789 [==============================] - 0s 0us/step\n"
          ]
        }
      ]
    },
    {
      "cell_type": "code",
      "source": [
        "X_train = pad_sequences(X_train, maxlen=maxlen)\n",
        "X_test = pad_sequences(X_test, maxlen=maxlen)"
      ],
      "metadata": {
        "id": "iTzFoYJay614"
      },
      "execution_count": 4,
      "outputs": []
    },
    {
      "cell_type": "markdown",
      "source": [
        "# Recurrent neural networks RNN"
      ],
      "metadata": {
        "id": "CXVZl94by94H"
      }
    },
    {
      "cell_type": "code",
      "source": [
        "model_rnn = Sequential()\n",
        "model_rnn.add(Embedding(max_features, 32, input_length=maxlen))\n",
        "model_rnn.add(Dropout(0.2))\n",
        "model_rnn.add(SimpleRNN(32))\n",
        "model_rnn.add(Dense(units=1, activation='sigmoid'))"
      ],
      "metadata": {
        "id": "nJgaDq7JzJ2M"
      },
      "execution_count": 5,
      "outputs": []
    },
    {
      "cell_type": "code",
      "source": [
        "model_rnn.summary()"
      ],
      "metadata": {
        "colab": {
          "base_uri": "https://localhost:8080/"
        },
        "id": "veDDoZdf0NjB",
        "outputId": "ddf772b8-2e8e-4902-92be-d4352e00db5d"
      },
      "execution_count": 6,
      "outputs": [
        {
          "output_type": "stream",
          "name": "stdout",
          "text": [
            "Model: \"sequential\"\n",
            "_________________________________________________________________\n",
            " Layer (type)                Output Shape              Param #   \n",
            "=================================================================\n",
            " embedding (Embedding)       (None, 500, 32)           320000    \n",
            "                                                                 \n",
            " dropout (Dropout)           (None, 500, 32)           0         \n",
            "                                                                 \n",
            " simple_rnn (SimpleRNN)      (None, 32)                2080      \n",
            "                                                                 \n",
            " dense (Dense)               (None, 1)                 33        \n",
            "                                                                 \n",
            "=================================================================\n",
            "Total params: 322,113\n",
            "Trainable params: 322,113\n",
            "Non-trainable params: 0\n",
            "_________________________________________________________________\n"
          ]
        }
      ]
    },
    {
      "cell_type": "code",
      "source": [
        "model_rnn.compile(loss='binary_crossentropy',\n",
        "              optimizer='adam',\n",
        "              metrics=['accuracy'])"
      ],
      "metadata": {
        "id": "Hc7UFb9X0OoQ"
      },
      "execution_count": 7,
      "outputs": []
    },
    {
      "cell_type": "code",
      "source": [
        "# train:\n",
        "history = model_rnn.fit(X_train,\n",
        "                        y_train,\n",
        "                        batch_size=128,\n",
        "                        epochs=7,\n",
        "                        validation_data=(X_test, y_test)\n",
        "                        )"
      ],
      "metadata": {
        "colab": {
          "base_uri": "https://localhost:8080/"
        },
        "id": "i_opDVWr0jCh",
        "outputId": "e7afcc29-cad4-4287-8a32-a4019c65a914"
      },
      "execution_count": 8,
      "outputs": [
        {
          "output_type": "stream",
          "name": "stdout",
          "text": [
            "Epoch 1/7\n",
            "196/196 [==============================] - 58s 279ms/step - loss: 0.5458 - accuracy: 0.7239 - val_loss: 0.4043 - val_accuracy: 0.8288\n",
            "Epoch 2/7\n",
            "196/196 [==============================] - 51s 263ms/step - loss: 0.3481 - accuracy: 0.8569 - val_loss: 0.3576 - val_accuracy: 0.8481\n",
            "Epoch 3/7\n",
            "196/196 [==============================] - 54s 275ms/step - loss: 0.2510 - accuracy: 0.9026 - val_loss: 0.3374 - val_accuracy: 0.8570\n",
            "Epoch 4/7\n",
            "196/196 [==============================] - 53s 272ms/step - loss: 0.2322 - accuracy: 0.9114 - val_loss: 0.3494 - val_accuracy: 0.8639\n",
            "Epoch 5/7\n",
            "196/196 [==============================] - 54s 273ms/step - loss: 0.1811 - accuracy: 0.9333 - val_loss: 0.4039 - val_accuracy: 0.8460\n",
            "Epoch 6/7\n",
            "196/196 [==============================] - 53s 271ms/step - loss: 0.1433 - accuracy: 0.9478 - val_loss: 0.4327 - val_accuracy: 0.8498\n",
            "Epoch 7/7\n",
            "196/196 [==============================] - 53s 270ms/step - loss: 0.0993 - accuracy: 0.9656 - val_loss: 0.4533 - val_accuracy: 0.8462\n"
          ]
        }
      ]
    },
    {
      "cell_type": "code",
      "source": [
        "results_rnn = model_rnn.evaluate(X_test, y_test)\n",
        "results_rnn"
      ],
      "metadata": {
        "colab": {
          "base_uri": "https://localhost:8080/"
        },
        "id": "d0OyNP0a05sj",
        "outputId": "5985e37c-c200-45f2-863e-964d197bd8d0"
      },
      "execution_count": 9,
      "outputs": [
        {
          "output_type": "stream",
          "name": "stdout",
          "text": [
            "782/782 [==============================] - 26s 33ms/step - loss: 0.4533 - accuracy: 0.8462\n"
          ]
        },
        {
          "output_type": "execute_result",
          "data": {
            "text/plain": [
              "[0.45327407121658325, 0.8461999893188477]"
            ]
          },
          "metadata": {},
          "execution_count": 9
        }
      ]
    },
    {
      "cell_type": "code",
      "source": [
        "pd.DataFrame(history.history).plot(figsize=(8, 5))\n",
        "plt.grid(True)\n",
        "plt.gca().set_ylim(0, 1)\n",
        "plt.show()"
      ],
      "metadata": {
        "colab": {
          "base_uri": "https://localhost:8080/",
          "height": 451
        },
        "id": "vGc7LuNj0pzq",
        "outputId": "db15f572-73a2-4974-dbfb-a23f7e04b481"
      },
      "execution_count": 10,
      "outputs": [
        {
          "output_type": "display_data",
          "data": {
            "text/plain": [
              "<Figure size 800x500 with 1 Axes>"
            ],
            "image/png": "[encoded data removed]"
          },
          "metadata": {}
        }
      ]
    },
    {
      "cell_type": "code",
      "source": [
        "predictions = model_rnn.predict(X_test)\n",
        "\n",
        "# Для отримання зрозумілішого вигляду прогнозів, їх можна перетворити в бінарний формат:\n",
        "binary_predictions = ['positive' if pred > 0.5 else 'negative' for pred in predictions]\n",
        "\n",
        "# Для порівняння можна вивести деякі прогнозовані значення поряд з фактичними значеннями\n",
        "for i in range(10):\n",
        "    print(f\"Predicted: {binary_predictions[i]}, Label: {'positive' if y_test[i] > 0.5 else 'negative'}\")\n",
        "\n",
        "# Додатковий крок: Оцінка моделі\n",
        "# Це дасть загальну точність моделі на тестових даних\n",
        "test_loss, test_acc = model_rnn.evaluate(X_test, y_test)\n",
        "print('Test Loss: {}'.format(test_loss))\n",
        "print('Test Accuracy: {}'.format(test_acc))\n"
      ],
      "metadata": {
        "colab": {
          "base_uri": "https://localhost:8080/"
        },
        "id": "lVrPuywi1G5a",
        "outputId": "8011d7a9-37de-44b3-90da-b767759e2be2"
      },
      "execution_count": 11,
      "outputs": [
        {
          "output_type": "stream",
          "name": "stdout",
          "text": [
            "782/782 [==============================] - 27s 34ms/step\n",
            "Predicted: negative, Label: negative\n",
            "Predicted: positive, Label: positive\n",
            "Predicted: positive, Label: positive\n",
            "Predicted: positive, Label: negative\n",
            "Predicted: positive, Label: positive\n",
            "Predicted: positive, Label: positive\n",
            "Predicted: positive, Label: positive\n",
            "Predicted: negative, Label: negative\n",
            "Predicted: positive, Label: negative\n",
            "Predicted: positive, Label: positive\n",
            "782/782 [==============================] - 25s 32ms/step - loss: 0.4533 - accuracy: 0.8462\n",
            "Test Loss: 0.45327407121658325\n",
            "Test Accuracy: 0.8461999893188477\n"
          ]
        }
      ]
    },
    {
      "cell_type": "markdown",
      "source": [
        "# LSTM"
      ],
      "metadata": {
        "id": "QkTS3mrVIIxI"
      }
    },
    {
      "cell_type": "code",
      "source": [
        "model_lstm = Sequential()\n",
        "model_lstm.add(Embedding(max_features, 32, input_length=maxlen))\n",
        "model_lstm.add(Dropout(0.2))\n",
        "model_lstm.add(LSTM(32))\n",
        "model_lstm.add(Dense(units=1, activation='sigmoid'))"
      ],
      "metadata": {
        "id": "TTeT71BjIMhl"
      },
      "execution_count": 12,
      "outputs": []
    },
    {
      "cell_type": "code",
      "source": [
        "model_lstm.summary()"
      ],
      "metadata": {
        "colab": {
          "base_uri": "https://localhost:8080/"
        },
        "id": "xeQGMcg2Ix80",
        "outputId": "c5b8b012-ddc7-4876-ffbe-4eb9fd3f1b67"
      },
      "execution_count": 13,
      "outputs": [
        {
          "output_type": "stream",
          "name": "stdout",
          "text": [
            "Model: \"sequential_1\"\n",
            "_________________________________________________________________\n",
            " Layer (type)                Output Shape              Param #   \n",
            "=================================================================\n",
            " embedding_1 (Embedding)     (None, 500, 32)           320000    \n",
            "                                                                 \n",
            " dropout_1 (Dropout)         (None, 500, 32)           0         \n",
            "                                                                 \n",
            " lstm (LSTM)                 (None, 32)                8320      \n",
            "                                                                 \n",
            " dense_1 (Dense)             (None, 1)                 33        \n",
            "                                                                 \n",
            "=================================================================\n",
            "Total params: 328,353\n",
            "Trainable params: 328,353\n",
            "Non-trainable params: 0\n",
            "_________________________________________________________________\n"
          ]
        }
      ]
    },
    {
      "cell_type": "code",
      "source": [
        "model_lstm.compile(loss='binary_crossentropy',\n",
        "              optimizer='adam',\n",
        "              metrics=['accuracy'])"
      ],
      "metadata": {
        "id": "JC1tlUpTIy_L"
      },
      "execution_count": 14,
      "outputs": []
    },
    {
      "cell_type": "code",
      "source": [
        "# train:\n",
        "history_lstm = model_lstm.fit(X_train,\n",
        "                              y_train,\n",
        "                              batch_size=128,\n",
        "                              epochs=7,\n",
        "                              validation_data=(X_test, y_test)\n",
        "                              )"
      ],
      "metadata": {
        "colab": {
          "base_uri": "https://localhost:8080/"
        },
        "id": "EF1-sBN8I8jN",
        "outputId": "d47850f1-b9ae-427e-8967-ae24ba3bde9f"
      },
      "execution_count": 15,
      "outputs": [
        {
          "output_type": "stream",
          "name": "stdout",
          "text": [
            "Epoch 1/7\n",
            "196/196 [==============================] - 109s 542ms/step - loss: 0.4951 - accuracy: 0.7513 - val_loss: 0.3638 - val_accuracy: 0.8450\n",
            "Epoch 2/7\n",
            "196/196 [==============================] - 127s 649ms/step - loss: 0.2735 - accuracy: 0.8924 - val_loss: 0.3186 - val_accuracy: 0.8713\n",
            "Epoch 3/7\n",
            "196/196 [==============================] - 123s 629ms/step - loss: 0.2034 - accuracy: 0.9252 - val_loss: 0.3104 - val_accuracy: 0.8759\n",
            "Epoch 4/7\n",
            "196/196 [==============================] - 126s 642ms/step - loss: 0.1619 - accuracy: 0.9415 - val_loss: 0.3644 - val_accuracy: 0.8613\n",
            "Epoch 5/7\n",
            "196/196 [==============================] - 124s 635ms/step - loss: 0.1293 - accuracy: 0.9541 - val_loss: 0.3912 - val_accuracy: 0.8607\n",
            "Epoch 6/7\n",
            "196/196 [==============================] - 127s 649ms/step - loss: 0.1111 - accuracy: 0.9611 - val_loss: 0.3989 - val_accuracy: 0.8654\n",
            "Epoch 7/7\n",
            "196/196 [==============================] - 124s 632ms/step - loss: 0.0933 - accuracy: 0.9681 - val_loss: 0.4299 - val_accuracy: 0.8637\n"
          ]
        }
      ]
    },
    {
      "cell_type": "code",
      "source": [
        "results_lstm = model_lstm.evaluate(X_test, y_test)\n",
        "results_lstm"
      ],
      "metadata": {
        "colab": {
          "base_uri": "https://localhost:8080/"
        },
        "id": "xMZiSucyJ2AT",
        "outputId": "efc1704e-959c-4af8-e865-2c07781fd970"
      },
      "execution_count": 16,
      "outputs": [
        {
          "output_type": "stream",
          "name": "stdout",
          "text": [
            "782/782 [==============================] - 45s 58ms/step - loss: 0.4299 - accuracy: 0.8637\n"
          ]
        },
        {
          "output_type": "execute_result",
          "data": {
            "text/plain": [
              "[0.4298579692840576, 0.8637199997901917]"
            ]
          },
          "metadata": {},
          "execution_count": 16
        }
      ]
    },
    {
      "cell_type": "code",
      "source": [
        "pd.DataFrame(history_lstm.history).plot(figsize=(8, 5))\n",
        "plt.grid(True)\n",
        "plt.gca().set_ylim(0, 1)\n",
        "plt.show()"
      ],
      "metadata": {
        "colab": {
          "base_uri": "https://localhost:8080/",
          "height": 451
        },
        "id": "44ZrxGLYI_gW",
        "outputId": "ad91a6f9-c8bc-4d7c-f4cd-1946d4a382d6"
      },
      "execution_count": 17,
      "outputs": [
        {
          "output_type": "display_data",
          "data": {
            "text/plain": [
              "<Figure size 800x500 with 1 Axes>"
            ],
            "image/png": "[encoded data removed]"
          },
          "metadata": {}
        }
      ]
    },
    {
      "cell_type": "code",
      "source": [
        "predictions = model_lstm.predict(X_test)\n",
        "\n",
        "# Для отримання зрозумілішого вигляду прогнозів, їх можна перетворити в бінарний формат:\n",
        "binary_predictions = ['positive' if pred > 0.5 else 'negative' for pred in predictions]\n",
        "\n",
        "# Для порівняння можна вивести деякі прогнозовані значення поряд з фактичними значеннями\n",
        "for i in range(10):\n",
        "    print(f\"Predicted: {binary_predictions[i]}, Label: {'positive' if y_test[i] > 0.5 else 'negative'}\")\n",
        "\n",
        "# Додатковий крок: Оцінка моделі\n",
        "# Це дасть загальну точність моделі на тестових даних\n",
        "test_loss, test_acc = model_lstm.evaluate(X_test, y_test)\n",
        "print('Test Loss: {}'.format(test_loss))\n",
        "print('Test Accuracy: {}'.format(test_acc))"
      ],
      "metadata": {
        "colab": {
          "base_uri": "https://localhost:8080/"
        },
        "id": "tVP0eEDbJCxl",
        "outputId": "03956176-e3c0-41f6-872c-229bc704efbf"
      },
      "execution_count": 18,
      "outputs": [
        {
          "output_type": "stream",
          "name": "stdout",
          "text": [
            "782/782 [==============================] - 45s 57ms/step\n",
            "Predicted: negative, Label: negative\n",
            "Predicted: positive, Label: positive\n",
            "Predicted: positive, Label: positive\n",
            "Predicted: positive, Label: negative\n",
            "Predicted: positive, Label: positive\n",
            "Predicted: positive, Label: positive\n",
            "Predicted: positive, Label: positive\n",
            "Predicted: negative, Label: negative\n",
            "Predicted: positive, Label: negative\n",
            "Predicted: positive, Label: positive\n",
            "782/782 [==============================] - 47s 60ms/step - loss: 0.4299 - accuracy: 0.8637\n",
            "Test Loss: 0.4298579692840576\n",
            "Test Accuracy: 0.8637199997901917\n"
          ]
        }
      ]
    },
    {
      "cell_type": "markdown",
      "source": [
        "# Bidirectional RNN"
      ],
      "metadata": {
        "id": "9DV7R48PtNyQ"
      }
    },
    {
      "cell_type": "code",
      "source": [
        "model_brnn = Sequential()\n",
        "model_brnn.add(Embedding(max_features, 32, input_length=maxlen))\n",
        "model_brnn.add(Dropout(0.2))\n",
        "model_brnn.add(Bidirectional(LSTM(32)))\n",
        "model_brnn.add(Dense(units=1, activation='sigmoid'))"
      ],
      "metadata": {
        "id": "FESd29t_tTVQ"
      },
      "execution_count": 19,
      "outputs": []
    },
    {
      "cell_type": "code",
      "source": [
        "model_brnn.summary()"
      ],
      "metadata": {
        "colab": {
          "base_uri": "https://localhost:8080/"
        },
        "id": "AeY0gvN2tsl2",
        "outputId": "ae7347da-a379-4fb5-cef4-720169910777"
      },
      "execution_count": 20,
      "outputs": [
        {
          "output_type": "stream",
          "name": "stdout",
          "text": [
            "Model: \"sequential_2\"\n",
            "_________________________________________________________________\n",
            " Layer (type)                Output Shape              Param #   \n",
            "=================================================================\n",
            " embedding_2 (Embedding)     (None, 500, 32)           320000    \n",
            "                                                                 \n",
            " dropout_2 (Dropout)         (None, 500, 32)           0         \n",
            "                                                                 \n",
            " bidirectional (Bidirectiona  (None, 64)               16640     \n",
            " l)                                                              \n",
            "                                                                 \n",
            " dense_2 (Dense)             (None, 1)                 65        \n",
            "                                                                 \n",
            "=================================================================\n",
            "Total params: 336,705\n",
            "Trainable params: 336,705\n",
            "Non-trainable params: 0\n",
            "_________________________________________________________________\n"
          ]
        }
      ]
    },
    {
      "cell_type": "code",
      "source": [
        "model_brnn.compile(loss='binary_crossentropy',\n",
        "              optimizer='adam',\n",
        "              metrics=['accuracy'])"
      ],
      "metadata": {
        "id": "jHci7HGdtvx1"
      },
      "execution_count": 21,
      "outputs": []
    },
    {
      "cell_type": "code",
      "source": [
        "# train:\n",
        "history_brnn = model_brnn.fit(X_train,\n",
        "                              y_train,\n",
        "                              batch_size=128,\n",
        "                              epochs=7,\n",
        "                              validation_data=(X_test, y_test)\n",
        "                              )"
      ],
      "metadata": {
        "colab": {
          "base_uri": "https://localhost:8080/"
        },
        "id": "VEUAr1xutwD2",
        "outputId": "b1e73c67-c2c6-4069-e6db-93d248cc5097"
      },
      "execution_count": 22,
      "outputs": [
        {
          "output_type": "stream",
          "name": "stdout",
          "text": [
            "Epoch 1/7\n",
            "196/196 [==============================] - 191s 953ms/step - loss: 0.5101 - accuracy: 0.7402 - val_loss: 0.3406 - val_accuracy: 0.8575\n",
            "Epoch 2/7\n",
            "196/196 [==============================] - 186s 951ms/step - loss: 0.2624 - accuracy: 0.8986 - val_loss: 0.2957 - val_accuracy: 0.8747\n",
            "Epoch 3/7\n",
            "196/196 [==============================] - 187s 955ms/step - loss: 0.2020 - accuracy: 0.9255 - val_loss: 0.3088 - val_accuracy: 0.8775\n",
            "Epoch 4/7\n",
            "196/196 [==============================] - 184s 940ms/step - loss: 0.1648 - accuracy: 0.9431 - val_loss: 0.3073 - val_accuracy: 0.8722\n",
            "Epoch 5/7\n",
            "196/196 [==============================] - 186s 949ms/step - loss: 0.1330 - accuracy: 0.9550 - val_loss: 0.3684 - val_accuracy: 0.8692\n",
            "Epoch 6/7\n",
            "196/196 [==============================] - 188s 959ms/step - loss: 0.1072 - accuracy: 0.9652 - val_loss: 0.3901 - val_accuracy: 0.8618\n",
            "Epoch 7/7\n",
            "196/196 [==============================] - 186s 953ms/step - loss: 0.1160 - accuracy: 0.9576 - val_loss: 0.4914 - val_accuracy: 0.7607\n"
          ]
        }
      ]
    },
    {
      "cell_type": "code",
      "source": [
        "results_brnn = model_brnn.evaluate(X_test, y_test)\n",
        "results_brnn"
      ],
      "metadata": {
        "colab": {
          "base_uri": "https://localhost:8080/"
        },
        "id": "HOB0j0qPtwT2",
        "outputId": "3a3c677b-26e1-4f89-8316-215ced902760"
      },
      "execution_count": 23,
      "outputs": [
        {
          "output_type": "stream",
          "name": "stdout",
          "text": [
            "782/782 [==============================] - 75s 96ms/step - loss: 0.4914 - accuracy: 0.7607\n"
          ]
        },
        {
          "output_type": "execute_result",
          "data": {
            "text/plain": [
              "[0.4913758337497711, 0.7606800198554993]"
            ]
          },
          "metadata": {},
          "execution_count": 23
        }
      ]
    },
    {
      "cell_type": "code",
      "source": [
        "pd.DataFrame(history_brnn.history).plot(figsize=(8, 5))\n",
        "plt.grid(True)\n",
        "plt.gca().set_ylim(0, 1)\n",
        "plt.show()"
      ],
      "metadata": {
        "colab": {
          "base_uri": "https://localhost:8080/",
          "height": 451
        },
        "id": "IujfzlgWt5ZG",
        "outputId": "630b0876-10ed-4949-81a7-cd253bb903b8"
      },
      "execution_count": 24,
      "outputs": [
        {
          "output_type": "display_data",
          "data": {
            "text/plain": [
              "<Figure size 800x500 with 1 Axes>"
            ],
            "image/png": "[encoded data removed]"
          },
          "metadata": {}
        }
      ]
    },
    {
      "cell_type": "code",
      "source": [
        "predictions = model_brnn.predict(X_test)\n",
        "\n",
        "# Для отримання зрозумілішого вигляду прогнозів, їх можна перетворити в бінарний формат:\n",
        "binary_predictions = ['positive' if pred > 0.5 else 'negative' for pred in predictions]\n",
        "\n",
        "# Для порівняння можна вивести деякі прогнозовані значення поряд з фактичними значеннями\n",
        "for i in range(10):\n",
        "    print(f\"Predicted: {binary_predictions[i]}, Label: {'positive' if y_test[i] > 0.5 else 'negative'}\")\n",
        "\n",
        "# Додатковий крок: Оцінка моделі\n",
        "# Це дасть загальну точність моделі на тестових даних\n",
        "test_loss, test_acc = model_brnn.evaluate(X_test, y_test)\n",
        "print('Test Loss: {}'.format(test_loss))\n",
        "print('Test Accuracy: {}'.format(test_acc))"
      ],
      "metadata": {
        "colab": {
          "base_uri": "https://localhost:8080/"
        },
        "id": "Ex1YbD6Ct5jW",
        "outputId": "5f0826f0-23c3-4f70-d87c-6c9a513a5088"
      },
      "execution_count": 25,
      "outputs": [
        {
          "output_type": "stream",
          "name": "stdout",
          "text": [
            "782/782 [==============================] - 74s 93ms/step\n",
            "Predicted: positive, Label: negative\n",
            "Predicted: positive, Label: positive\n",
            "Predicted: positive, Label: positive\n",
            "Predicted: positive, Label: negative\n",
            "Predicted: positive, Label: positive\n",
            "Predicted: positive, Label: positive\n",
            "Predicted: positive, Label: positive\n",
            "Predicted: negative, Label: negative\n",
            "Predicted: positive, Label: negative\n",
            "Predicted: positive, Label: positive\n",
            "782/782 [==============================] - 74s 94ms/step - loss: 0.4914 - accuracy: 0.7607\n",
            "Test Loss: 0.4913758337497711\n",
            "Test Accuracy: 0.7606800198554993\n"
          ]
        }
      ]
    },
    {
      "cell_type": "markdown",
      "source": [
        "# DeepBRNN"
      ],
      "metadata": {
        "id": "tHS43N_fuXGL"
      }
    },
    {
      "cell_type": "code",
      "source": [
        "model_dbrnn = Sequential()\n",
        "model_dbrnn.add(Embedding(max_features, 32, input_length=maxlen))\n",
        "model_dbrnn.add(Dropout(0.2))\n",
        "model_dbrnn.add(Bidirectional(LSTM(32, return_sequences=True)))\n",
        "model_dbrnn.add(Bidirectional(LSTM(32)))\n",
        "model_dbrnn.add(Dense(units=1, activation='sigmoid'))"
      ],
      "metadata": {
        "id": "V6inQIm0ufG8"
      },
      "execution_count": 26,
      "outputs": []
    },
    {
      "cell_type": "code",
      "source": [
        "model_dbrnn.summary()"
      ],
      "metadata": {
        "colab": {
          "base_uri": "https://localhost:8080/"
        },
        "id": "nzGDE2xou3hI",
        "outputId": "41048dbe-1e48-43f9-b6c6-37841d4de407"
      },
      "execution_count": 27,
      "outputs": [
        {
          "output_type": "stream",
          "name": "stdout",
          "text": [
            "Model: \"sequential_3\"\n",
            "_________________________________________________________________\n",
            " Layer (type)                Output Shape              Param #   \n",
            "=================================================================\n",
            " embedding_3 (Embedding)     (None, 500, 32)           320000    \n",
            "                                                                 \n",
            " dropout_3 (Dropout)         (None, 500, 32)           0         \n",
            "                                                                 \n",
            " bidirectional_1 (Bidirectio  (None, 500, 64)          16640     \n",
            " nal)                                                            \n",
            "                                                                 \n",
            " bidirectional_2 (Bidirectio  (None, 64)               24832     \n",
            " nal)                                                            \n",
            "                                                                 \n",
            " dense_3 (Dense)             (None, 1)                 65        \n",
            "                                                                 \n",
            "=================================================================\n",
            "Total params: 361,537\n",
            "Trainable params: 361,537\n",
            "Non-trainable params: 0\n",
            "_________________________________________________________________\n"
          ]
        }
      ]
    },
    {
      "cell_type": "code",
      "source": [
        "model_dbrnn.compile(loss='binary_crossentropy',\n",
        "              optimizer='adam',\n",
        "              metrics=['accuracy'])"
      ],
      "metadata": {
        "id": "opl84zH6u3qw"
      },
      "execution_count": 28,
      "outputs": []
    },
    {
      "cell_type": "code",
      "source": [
        "# train:\n",
        "history_dbrnn = model_dbrnn.fit(X_train,\n",
        "                              y_train,\n",
        "                              batch_size=128,\n",
        "                              epochs=7,\n",
        "                              validation_data=(X_test, y_test)\n",
        "                              )"
      ],
      "metadata": {
        "colab": {
          "base_uri": "https://localhost:8080/"
        },
        "id": "k3bTQG2Ru3z_",
        "outputId": "0cb9e025-6375-40ab-d740-d0d7ae5f9ebd"
      },
      "execution_count": 29,
      "outputs": [
        {
          "output_type": "stream",
          "name": "stdout",
          "text": [
            "Epoch 1/7\n",
            "196/196 [==============================] - 471s 2s/step - loss: 0.4869 - accuracy: 0.7577 - val_loss: 0.3566 - val_accuracy: 0.8527\n",
            "Epoch 2/7\n",
            "196/196 [==============================] - 458s 2s/step - loss: 0.2550 - accuracy: 0.8998 - val_loss: 0.3110 - val_accuracy: 0.8724\n",
            "Epoch 3/7\n",
            "196/196 [==============================] - 408s 2s/step - loss: 0.1976 - accuracy: 0.9274 - val_loss: 0.3132 - val_accuracy: 0.8761\n",
            "Epoch 4/7\n",
            "196/196 [==============================] - 459s 2s/step - loss: 0.1522 - accuracy: 0.9463 - val_loss: 0.3349 - val_accuracy: 0.8666\n",
            "Epoch 5/7\n",
            "196/196 [==============================] - 460s 2s/step - loss: 0.1202 - accuracy: 0.9592 - val_loss: 0.3993 - val_accuracy: 0.8679\n",
            "Epoch 6/7\n",
            "196/196 [==============================] - 459s 2s/step - loss: 0.1005 - accuracy: 0.9681 - val_loss: 0.4407 - val_accuracy: 0.8616\n",
            "Epoch 7/7\n",
            "196/196 [==============================] - 459s 2s/step - loss: 0.0864 - accuracy: 0.9718 - val_loss: 0.4426 - val_accuracy: 0.8673\n"
          ]
        }
      ]
    },
    {
      "cell_type": "code",
      "source": [
        "results_dbrnn = model_dbrnn.evaluate(X_test, y_test)\n",
        "results_dbrnn"
      ],
      "metadata": {
        "colab": {
          "base_uri": "https://localhost:8080/"
        },
        "id": "quHor0Hju36w",
        "outputId": "de45c777-ba3d-4fc8-f3d7-80cddc4a8f6c"
      },
      "execution_count": 30,
      "outputs": [
        {
          "output_type": "stream",
          "name": "stdout",
          "text": [
            "782/782 [==============================] - 155s 198ms/step - loss: 0.4426 - accuracy: 0.8673\n"
          ]
        },
        {
          "output_type": "execute_result",
          "data": {
            "text/plain": [
              "[0.442562460899353, 0.8673200011253357]"
            ]
          },
          "metadata": {},
          "execution_count": 30
        }
      ]
    },
    {
      "cell_type": "code",
      "source": [
        "pd.DataFrame(history_dbrnn.history).plot(figsize=(8, 5))\n",
        "plt.grid(True)\n",
        "plt.gca().set_ylim(0, 1)\n",
        "plt.show()"
      ],
      "metadata": {
        "colab": {
          "base_uri": "https://localhost:8080/",
          "height": 451
        },
        "id": "jnDLV2a3u4AB",
        "outputId": "6595bd44-5614-466b-ed21-77843abac33b"
      },
      "execution_count": 31,
      "outputs": [
        {
          "output_type": "display_data",
          "data": {
            "text/plain": [
              "<Figure size 800x500 with 1 Axes>"
            ],
            "image/png": "[encoded data removed]"
          },
          "metadata": {}
        }
      ]
    },
    {
      "cell_type": "code",
      "source": [
        "predictions = model_dbrnn.predict(X_test)\n",
        "\n",
        "# Для отримання зрозумілішого вигляду прогнозів, їх можна перетворити в бінарний формат:\n",
        "binary_predictions = ['positive' if pred > 0.5 else 'negative' for pred in predictions]\n",
        "\n",
        "# Для порівняння можна вивести деякі прогнозовані значення поряд з фактичними значеннями\n",
        "for i in range(10):\n",
        "    print(f\"Predicted: {binary_predictions[i]}, Label: {'positive' if y_test[i] > 0.5 else 'negative'}\")\n",
        "\n",
        "# Додатковий крок: Оцінка моделі\n",
        "# Це дасть загальну точність моделі на тестових даних\n",
        "test_loss, test_acc = model_dbrnn.evaluate(X_test, y_test)\n",
        "print('Test Loss: {}'.format(test_loss))\n",
        "print('Test Accuracy: {}'.format(test_acc))"
      ],
      "metadata": {
        "colab": {
          "base_uri": "https://localhost:8080/"
        },
        "id": "eqrpNMnpu4Ew",
        "outputId": "3ef25e96-b555-48d9-c825-bef6707c016b"
      },
      "execution_count": 32,
      "outputs": [
        {
          "output_type": "stream",
          "name": "stdout",
          "text": [
            "782/782 [==============================] - 151s 190ms/step\n",
            "Predicted: negative, Label: negative\n",
            "Predicted: positive, Label: positive\n",
            "Predicted: positive, Label: positive\n",
            "Predicted: negative, Label: negative\n",
            "Predicted: positive, Label: positive\n",
            "Predicted: positive, Label: positive\n",
            "Predicted: positive, Label: positive\n",
            "Predicted: negative, Label: negative\n",
            "Predicted: positive, Label: negative\n",
            "Predicted: positive, Label: positive\n",
            "782/782 [==============================] - 150s 192ms/step - loss: 0.4426 - accuracy: 0.8673\n",
            "Test Loss: 0.442562460899353\n",
            "Test Accuracy: 0.8673200011253357\n"
          ]
        }
      ]
    },
    {
      "cell_type": "code",
      "source": [
        "print(f'Accuracy: RNN = {results_rnn[1]}, LSTM = {results_lstm[1]}, DRNN = {results_brnn[1]}, DBRNN = {results_dbrnn[1]}')"
      ],
      "metadata": {
        "colab": {
          "base_uri": "https://localhost:8080/"
        },
        "id": "M22GmEqFNlZF",
        "outputId": "2e6d5c6c-af5a-4004-d94a-869dbfe08c56"
      },
      "execution_count": 41,
      "outputs": [
        {
          "output_type": "stream",
          "name": "stdout",
          "text": [
            "Accuracy: RNN = 0.8461999893188477, LSTM = 0.8637199997901917, DRNN = 0.7606800198554993, DBRNN = 0.8673200011253357\n"
          ]
        }
      ]
    },
    {
      "cell_type": "markdown",
      "source": [
        "# Найбільше значення Val_accuracy"
      ],
      "metadata": {
        "id": "A2HZaNsPOzha"
      }
    },
    {
      "cell_type": "markdown",
      "source": [
        "# RNN\n",
        "Epoch 4/7\n",
        "196/196 [==============================] - 53s 272ms/step - loss: 0.2322 - accuracy: 0.9114 - val_loss: 0.3494 - val_accuracy: 0.8639\n",
        "# LSTM\n",
        "Epoch 3/7\n",
        "196/196 [==============================] - 123s 629ms/step - loss: 0.2034 - accuracy: 0.9252 - val_loss: 0.3104 - val_accuracy: 0.8759\n",
        "# BRNN\n",
        "Epoch 3/7\n",
        "196/196 [==============================] - 187s 955ms/step - loss: 0.2020 - accuracy: 0.9255 - val_loss: 0.3088 - val_accuracy: 0.8775\n",
        "# DBRNN\n",
        "Epoch 3/7\n",
        "196/196 [==============================] - 408s 2s/step - loss: 0.1976 - accuracy: 0.9274 - val_loss: 0.3132 - val_accuracy: 0.8761"
      ],
      "metadata": {
        "id": "XIUY9YmtOBp6"
      }
    },
    {
      "cell_type": "markdown",
      "source": [
        "# Висновок\n",
        "\n",
        "Всі використані рекурентні нейронні мережі показали високий та відносно рівний результат. З графіків встановлено, що після 3-ї єпохи в усіх нейромережах відбувалося перенавчання. Найбільшу точність показала глибока двустороння рекурентна нейронна мережа(Deep BRNN), але на її навчання потрібно більше часу аніж на інші мережі, та треба враховувати її перенавчання."
      ],
      "metadata": {
        "id": "cT_onUKcPD8s"
      }
    }
  ]
}