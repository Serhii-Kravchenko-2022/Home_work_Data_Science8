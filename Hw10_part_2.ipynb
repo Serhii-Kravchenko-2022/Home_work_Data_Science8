{
  "nbformat": 4,
  "nbformat_minor": 0,
  "metadata": {
    "colab": {
      "provenance": [],
      "authorship_tag": "ABX9TyP69kg2N4KxIuL+pxbZjI/8",
      "include_colab_link": true
    },
    "kernelspec": {
      "name": "python3",
      "display_name": "Python 3"
    },
    "language_info": {
      "name": "python"
    }
  },
  "cells": [
    {
      "cell_type": "markdown",
      "metadata": {
        "id": "view-in-github",
        "colab_type": "text"
      },
      "source": [
        "<a href=\"https://colab.research.google.com/github/Serhii-Kravchenko-2022/Home_work_Data_Science8/blob/main/Hw10_part_2.ipynb\" target=\"_parent\"><img src=\"https://colab.research.google.com/assets/colab-badge.svg\" alt=\"Open In Colab\"/></a>"
      ]
    },
    {
      "cell_type": "code",
      "execution_count": 21,
      "metadata": {
        "id": "U8jftWn67Frx"
      },
      "outputs": [],
      "source": [
        "import pandas as pd\n",
        "import numpy as np\n",
        "import tensorflow as tf\n",
        "import matplotlib.pyplot as plt\n",
        "\n",
        "from keras.applications.vgg16 import VGG16\n",
        "from keras.datasets import fashion_mnist\n",
        "from keras.utils import to_categorical\n",
        "from keras.layers import Flatten, Dense\n",
        "from keras.models import Sequential\n",
        "from keras.optimizers import Adam"
      ]
    },
    {
      "cell_type": "code",
      "source": [
        "(X_train, y_train), (X_test, y_test) = fashion_mnist.load_data()"
      ],
      "metadata": {
        "id": "0ErdRduh7L07"
      },
      "execution_count": 22,
      "outputs": []
    },
    {
      "cell_type": "code",
      "source": [
        "X_train.shape"
      ],
      "metadata": {
        "colab": {
          "base_uri": "https://localhost:8080/"
        },
        "id": "M3MC1vmN7PLq",
        "outputId": "7cba2afd-b960-4dd1-ad71-20a2e9f17fcb"
      },
      "execution_count": 24,
      "outputs": [
        {
          "output_type": "execute_result",
          "data": {
            "text/plain": [
              "(60000, 28, 28)"
            ]
          },
          "metadata": {},
          "execution_count": 24
        }
      ]
    },
    {
      "cell_type": "code",
      "source": [
        "X_test.shape"
      ],
      "metadata": {
        "colab": {
          "base_uri": "https://localhost:8080/"
        },
        "id": "wk-86YZQ9W9a",
        "outputId": "324299e1-9f4f-4995-e7a8-89a61e0c4822"
      },
      "execution_count": 25,
      "outputs": [
        {
          "output_type": "execute_result",
          "data": {
            "text/plain": [
              "(10000, 28, 28)"
            ]
          },
          "metadata": {},
          "execution_count": 25
        }
      ]
    },
    {
      "cell_type": "code",
      "source": [
        "# змінюєм розмір картинок для VGG16\n",
        "X_train = tf.image.resize(np.array(X_train)[..., tf.newaxis], (32, 32))\n",
        "X_train = np.repeat(X_train, 3, axis=-1)\n",
        "X_test = tf.image.resize(np.array(X_test)[..., tf.newaxis], (32, 32))\n",
        "X_test = np.repeat(X_test, 3, axis=-1)\n",
        "\n",
        "# Нормалізуємо значення з (0, 255) to (0, 1)\n",
        "X_train = np.array(X_train) / 255.0\n",
        "X_test = np.array(X_test) / 255.0"
      ],
      "metadata": {
        "id": "LiwS7cOz7Te1"
      },
      "execution_count": 26,
      "outputs": []
    },
    {
      "cell_type": "code",
      "source": [
        "X_train.shape"
      ],
      "metadata": {
        "colab": {
          "base_uri": "https://localhost:8080/"
        },
        "id": "iDhI-V5n7WGW",
        "outputId": "c2e00882-308b-4c88-ddea-5119f28b1205"
      },
      "execution_count": 27,
      "outputs": [
        {
          "output_type": "execute_result",
          "data": {
            "text/plain": [
              "(60000, 32, 32, 3)"
            ]
          },
          "metadata": {},
          "execution_count": 27
        }
      ]
    },
    {
      "cell_type": "code",
      "source": [
        "X_test.shape"
      ],
      "metadata": {
        "colab": {
          "base_uri": "https://localhost:8080/"
        },
        "id": "QK_WV1Qa9c4d",
        "outputId": "c10b271b-89e0-4f81-9e20-55d4e0de5820"
      },
      "execution_count": 28,
      "outputs": [
        {
          "output_type": "execute_result",
          "data": {
            "text/plain": [
              "(10000, 32, 32, 3)"
            ]
          },
          "metadata": {},
          "execution_count": 28
        }
      ]
    },
    {
      "cell_type": "code",
      "source": [
        "# Перетворюємо мітки по категоріям\n",
        "num_classes = 10\n",
        "y_train = to_categorical(y_train, num_classes)\n",
        "y_test = to_categorical(y_test, num_classes)"
      ],
      "metadata": {
        "id": "qWf8JEFV7ZGX"
      },
      "execution_count": 29,
      "outputs": []
    },
    {
      "cell_type": "code",
      "source": [
        "vgg16_base = VGG16(weights='imagenet', include_top=False, input_shape=(32, 32, 3))\n",
        "vgg16_base.trainable = False"
      ],
      "metadata": {
        "id": "RBeT5sqo7bZf"
      },
      "execution_count": 30,
      "outputs": []
    },
    {
      "cell_type": "code",
      "source": [
        "model = Sequential()\n",
        "model.add(vgg16_base)\n",
        "model.add(Flatten())\n",
        "model.add(Dense(128, activation=\"relu\"))\n",
        "model.add(Dense(10, activation=\"softmax\"))"
      ],
      "metadata": {
        "id": "WBPvD1Xr7doP"
      },
      "execution_count": 31,
      "outputs": []
    },
    {
      "cell_type": "code",
      "source": [
        "model.compile(optimizer=Adam(), loss='categorical_crossentropy', metrics=['accuracy'])"
      ],
      "metadata": {
        "id": "uhCRMtZ_7gDL"
      },
      "execution_count": 32,
      "outputs": []
    },
    {
      "cell_type": "code",
      "source": [
        "model.summary()"
      ],
      "metadata": {
        "colab": {
          "base_uri": "https://localhost:8080/"
        },
        "id": "bP4STwul_Yw1",
        "outputId": "9fadc6d0-f49e-410b-b8d9-0bddf8b67527"
      },
      "execution_count": 33,
      "outputs": [
        {
          "output_type": "stream",
          "name": "stdout",
          "text": [
            "Model: \"sequential_2\"\n",
            "_________________________________________________________________\n",
            " Layer (type)                Output Shape              Param #   \n",
            "=================================================================\n",
            " vgg16 (Functional)          (None, 1, 1, 512)         14714688  \n",
            "                                                                 \n",
            " flatten_2 (Flatten)         (None, 512)               0         \n",
            "                                                                 \n",
            " dense_4 (Dense)             (None, 128)               65664     \n",
            "                                                                 \n",
            " dense_5 (Dense)             (None, 10)                1290      \n",
            "                                                                 \n",
            "=================================================================\n",
            "Total params: 14,781,642\n",
            "Trainable params: 66,954\n",
            "Non-trainable params: 14,714,688\n",
            "_________________________________________________________________\n"
          ]
        }
      ]
    },
    {
      "cell_type": "code",
      "source": [
        "history = model.fit(\n",
        "    X_train, y_train,\n",
        "    epochs=6,\n",
        "    batch_size=256,\n",
        "    validation_data=(X_test, y_test)\n",
        ")"
      ],
      "metadata": {
        "colab": {
          "base_uri": "https://localhost:8080/"
        },
        "id": "92fsZq3D7jGB",
        "outputId": "dd2ae4cf-8056-425d-9adc-c8d87a71d939"
      },
      "execution_count": null,
      "outputs": [
        {
          "output_type": "stream",
          "name": "stdout",
          "text": [
            "Epoch 1/6\n",
            "235/235 [==============================] - 851s 4s/step - loss: 0.6886 - accuracy: 0.7767 - val_loss: 0.5091 - val_accuracy: 0.8209\n",
            "Epoch 2/6\n",
            "235/235 [==============================] - 870s 4s/step - loss: 0.4639 - accuracy: 0.8330 - val_loss: 0.4517 - val_accuracy: 0.8387\n",
            "Epoch 3/6\n",
            "235/235 [==============================] - 869s 4s/step - loss: 0.4222 - accuracy: 0.8465 - val_loss: 0.4319 - val_accuracy: 0.8438\n",
            "Epoch 4/6\n",
            "235/235 [==============================] - 849s 4s/step - loss: 0.3967 - accuracy: 0.8562 - val_loss: 0.4101 - val_accuracy: 0.8513\n",
            "Epoch 5/6\n",
            "235/235 [==============================] - 867s 4s/step - loss: 0.3810 - accuracy: 0.8620 - val_loss: 0.4028 - val_accuracy: 0.8539\n",
            "Epoch 6/6\n",
            "235/235 [==============================] - 869s 4s/step - loss: 0.3665 - accuracy: 0.8665 - val_loss: 0.3931 - val_accuracy: 0.8580\n"
          ]
        }
      ]
    },
    {
      "cell_type": "code",
      "source": [
        "results = model.evaluate(X_test, y_test)\n",
        "results"
      ],
      "metadata": {
        "colab": {
          "base_uri": "https://localhost:8080/"
        },
        "id": "465jqNIg7lG4",
        "outputId": "1b456e99-c5e3-4f83-a034-7f3715593566"
      },
      "execution_count": null,
      "outputs": [
        {
          "output_type": "stream",
          "name": "stdout",
          "text": [
            "313/313 [==============================] - 126s 401ms/step - loss: 0.3931 - accuracy: 0.8580\n"
          ]
        },
        {
          "output_type": "execute_result",
          "data": {
            "text/plain": [
              "[0.3930891156196594, 0.8579999804496765]"
            ]
          },
          "metadata": {},
          "execution_count": 15
        }
      ]
    },
    {
      "cell_type": "code",
      "source": [
        "pd.DataFrame(history.history).plot(figsize=(8, 5))\n",
        "plt.grid(True)\n",
        "plt.gca().set_ylim(0, 1)\n",
        "plt.show()"
      ],
      "metadata": {
        "colab": {
          "base_uri": "https://localhost:8080/",
          "height": 451
        },
        "id": "10IlB-2p7n2e",
        "outputId": "3c3de796-1531-41ce-f9d9-6697a68809b5"
      },
      "execution_count": null,
      "outputs": [
        {
          "output_type": "display_data",
          "data": {
            "text/plain": [
              "<Figure size 800x500 with 1 Axes>"
            ],
            "image/png": "[encoded data removed]"
          },
          "metadata": {}
        }
      ]
    },
    {
      "cell_type": "code",
      "source": [
        "vgg16_base.summary()"
      ],
      "metadata": {
        "colab": {
          "base_uri": "https://localhost:8080/"
        },
        "id": "1_HEQPVs7pyF",
        "outputId": "c0b544ff-4aeb-46dc-ef06-c90214dd37d2"
      },
      "execution_count": null,
      "outputs": [
        {
          "output_type": "stream",
          "name": "stdout",
          "text": [
            "Model: \"vgg16\"\n",
            "_________________________________________________________________\n",
            " Layer (type)                Output Shape              Param #   \n",
            "=================================================================\n",
            " input_1 (InputLayer)        [(None, 32, 32, 3)]       0         \n",
            "                                                                 \n",
            " block1_conv1 (Conv2D)       (None, 32, 32, 64)        1792      \n",
            "                                                                 \n",
            " block1_conv2 (Conv2D)       (None, 32, 32, 64)        36928     \n",
            "                                                                 \n",
            " block1_pool (MaxPooling2D)  (None, 16, 16, 64)        0         \n",
            "                                                                 \n",
            " block2_conv1 (Conv2D)       (None, 16, 16, 128)       73856     \n",
            "                                                                 \n",
            " block2_conv2 (Conv2D)       (None, 16, 16, 128)       147584    \n",
            "                                                                 \n",
            " block2_pool (MaxPooling2D)  (None, 8, 8, 128)         0         \n",
            "                                                                 \n",
            " block3_conv1 (Conv2D)       (None, 8, 8, 256)         295168    \n",
            "                                                                 \n",
            " block3_conv2 (Conv2D)       (None, 8, 8, 256)         590080    \n",
            "                                                                 \n",
            " block3_conv3 (Conv2D)       (None, 8, 8, 256)         590080    \n",
            "                                                                 \n",
            " block3_pool (MaxPooling2D)  (None, 4, 4, 256)         0         \n",
            "                                                                 \n",
            " block4_conv1 (Conv2D)       (None, 4, 4, 512)         1180160   \n",
            "                                                                 \n",
            " block4_conv2 (Conv2D)       (None, 4, 4, 512)         2359808   \n",
            "                                                                 \n",
            " block4_conv3 (Conv2D)       (None, 4, 4, 512)         2359808   \n",
            "                                                                 \n",
            " block4_pool (MaxPooling2D)  (None, 2, 2, 512)         0         \n",
            "                                                                 \n",
            " block5_conv1 (Conv2D)       (None, 2, 2, 512)         2359808   \n",
            "                                                                 \n",
            " block5_conv2 (Conv2D)       (None, 2, 2, 512)         2359808   \n",
            "                                                                 \n",
            " block5_conv3 (Conv2D)       (None, 2, 2, 512)         2359808   \n",
            "                                                                 \n",
            " block5_pool (MaxPooling2D)  (None, 1, 1, 512)         0         \n",
            "                                                                 \n",
            "=================================================================\n",
            "Total params: 14,714,688\n",
            "Trainable params: 0\n",
            "Non-trainable params: 14,714,688\n",
            "_________________________________________________________________\n"
          ]
        }
      ]
    },
    {
      "cell_type": "code",
      "source": [
        "#донавчання\n",
        "for i, layer in enumerate(model.layers):\n",
        "    layer._name = 'layer_' + str(i)\n",
        "\n",
        "\n",
        "vgg16_base = VGG16(weights='imagenet', include_top=False, input_shape=(32, 32, 3))\n",
        "\n",
        "\n",
        "vgg16_base.trainable = True\n",
        "set_trainable = False\n",
        "for layer in vgg16_base.layers:\n",
        "    if layer.name == \"block5_conv1\":\n",
        "        set_trainable = True\n",
        "    if set_trainable:\n",
        "        layer.trainable = True\n",
        "    else:\n",
        "        layer.trainable = False\n",
        "\n",
        "\n",
        "addtrain_model = Sequential([\n",
        "   vgg16_base,\n",
        "   Flatten(),\n",
        "   Dense(256, activation=\"relu\"),\n",
        "   Dense(10, activation=\"softmax\"),\n",
        "])"
      ],
      "metadata": {
        "id": "n1Y3iPkn7sIH"
      },
      "execution_count": 34,
      "outputs": []
    },
    {
      "cell_type": "code",
      "source": [
        "addtrain_model.compile(\n",
        "    optimizer=Adam(learning_rate=0.0001),\n",
        "    loss='categorical_crossentropy',\n",
        "    metrics=['accuracy'])"
      ],
      "metadata": {
        "id": "l7ZNStDe7wm9"
      },
      "execution_count": 35,
      "outputs": []
    },
    {
      "cell_type": "code",
      "source": [
        "addtrain_model.summary()"
      ],
      "metadata": {
        "id": "-t8f93aos9V9",
        "colab": {
          "base_uri": "https://localhost:8080/"
        },
        "outputId": "85e23feb-871a-4672-fec2-2e91cdaedcc1"
      },
      "execution_count": 36,
      "outputs": [
        {
          "output_type": "stream",
          "name": "stdout",
          "text": [
            "Model: \"sequential_3\"\n",
            "_________________________________________________________________\n",
            " Layer (type)                Output Shape              Param #   \n",
            "=================================================================\n",
            " vgg16 (Functional)          (None, 1, 1, 512)         14714688  \n",
            "                                                                 \n",
            " flatten_3 (Flatten)         (None, 512)               0         \n",
            "                                                                 \n",
            " dense_6 (Dense)             (None, 256)               131328    \n",
            "                                                                 \n",
            " dense_7 (Dense)             (None, 10)                2570      \n",
            "                                                                 \n",
            "=================================================================\n",
            "Total params: 14,848,586\n",
            "Trainable params: 7,213,322\n",
            "Non-trainable params: 7,635,264\n",
            "_________________________________________________________________\n"
          ]
        }
      ]
    },
    {
      "cell_type": "code",
      "source": [
        "history = addtrain_model.fit(\n",
        "    X_train,\n",
        "    y_train,\n",
        "    epochs=2,\n",
        "    batch_size=256,\n",
        "    validation_data=(X_test, y_test)\n",
        ")"
      ],
      "metadata": {
        "colab": {
          "base_uri": "https://localhost:8080/"
        },
        "id": "Ecvsu-0t7zhn",
        "outputId": "8723d550-a4f3-472d-e30c-a0a857a2c302"
      },
      "execution_count": 38,
      "outputs": [
        {
          "output_type": "stream",
          "name": "stdout",
          "text": [
            "Epoch 1/2\n",
            "235/235 [==============================] - 3236s 14s/step - loss: 0.4088 - accuracy: 0.8535 - val_loss: 0.3293 - val_accuracy: 0.8837\n",
            "Epoch 2/2\n",
            "235/235 [==============================] - 3234s 14s/step - loss: 0.2841 - accuracy: 0.8948 - val_loss: 0.3004 - val_accuracy: 0.8886\n"
          ]
        }
      ]
    },
    {
      "cell_type": "code",
      "source": [
        "results = addtrain_model.evaluate(X_test, y_test)\n",
        "results"
      ],
      "metadata": {
        "colab": {
          "base_uri": "https://localhost:8080/"
        },
        "id": "cppKAaNC72XQ",
        "outputId": "39452b18-8280-4a40-b3f3-36e2344201c7"
      },
      "execution_count": 39,
      "outputs": [
        {
          "output_type": "stream",
          "name": "stdout",
          "text": [
            "313/313 [==============================] - 127s 406ms/step - loss: 0.3004 - accuracy: 0.8886\n"
          ]
        },
        {
          "output_type": "execute_result",
          "data": {
            "text/plain": [
              "[0.3004123270511627, 0.8885999917984009]"
            ]
          },
          "metadata": {},
          "execution_count": 39
        }
      ]
    },
    {
      "cell_type": "code",
      "source": [
        "pd.DataFrame(history.history).plot(figsize=(8, 5))\n",
        "plt.grid(True)\n",
        "plt.gca().set_ylim(0, 1)\n",
        "plt.show()"
      ],
      "metadata": {
        "colab": {
          "base_uri": "https://localhost:8080/",
          "height": 451
        },
        "id": "P4j1CiSTSAOR",
        "outputId": "86094dd1-67a7-42c2-a141-7fd9a7417183"
      },
      "execution_count": 40,
      "outputs": [
        {
          "output_type": "display_data",
          "data": {
            "text/plain": [
              "<Figure size 800x500 with 1 Axes>"
            ],
            "image/png": "[encoded data removed]"
          },
          "metadata": {}
        }
      ]
    },
    {
      "cell_type": "markdown",
      "source": [
        "Висновок: порівнюючи звичайну згорткову мережу та згорткову мережу, що використовує VGG16 в якості згорткової основи, можемо помітити, що звичайна мережа показала вищу точність. VGG16 з донавчанням трьох останніх шарів в 2 єпохи, підвищила точність з 0,857 до 0,888, але не показала вищої точності порівняно з звичайною нейронною мережею з модуля 9 - 0,888 проти 0,890. Можливо перебирвючи параметри згорткової мережі можливо підвищити точність, але час навчання та ресурси, в умовах виконання домашнього завдання, заважають це зробити."
      ],
      "metadata": {
        "id": "dYya-V4R790N"
      }
    }
  ]
}